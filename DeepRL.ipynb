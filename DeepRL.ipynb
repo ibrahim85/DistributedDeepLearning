{
 "cells": [
  {
   "cell_type": "markdown",
   "metadata": {},
   "source": [
    "Deep Reinforcement Learning with TensorFlow\n",
    "=============\n",
    "\n",
    "Ron Wu\n",
    "-------------\n",
    "\n",
    "11/17/16\n",
    "\n",
    "Reference:  \n",
    "David Silver,  http://www0.cs.ucl.ac.uk/staff/d.silver/web/Teaching.html<br>\n",
    "Richard Sutton, Andrew Barto, https://webdocs.cs.ualberta.ca/%7Esutton/book/the-book-2nd.html<br>\n",
    "Shang Tong Zhang, https://github.com/ShangtongZhang/reinforcement-learning-an-introduction<br>\n",
    "Denny Britz, https://github.com/dennybritz/reinforcement-learning<br>\n",
    "John Schulman, Pieter Abbeel, http://rll.berkeley.edu/deeprlcourse/<br>\n",
    "Charles Isbell, Michael Littman, https://www.udacity.com/course/reinforcement-learning--ud600\n",
    "\n",
    "### Contents\n",
    "\n",
    "   1. <a href=#sss>Small Scale States RL</a>\n",
    "       - <a href =#mdp>Markov Decision Processes</a> \n",
    "       - <a href =#free>Model Free</a> \n",
    "<br><br> "
   ]
  },
  {
   "cell_type": "markdown",
   "metadata": {},
   "source": [
    "<a name='intro'></a>\n",
    "## Introduction\n",
    "\n",
    "In the last \"Convolutional Neural Networks for Image Processing, Recurrent Neural Networks for Natural Language Processing with TensorFlow\" note, I highlighted the triumph of artificial intelligence, AlphaGo (led by David Silver and Demis Hassabis) beat human. AlphaGo used 12 layers of CNN to derive a value network and a policy network from 30,000,000 professional played games as initial training dataset, then it used reinforcement learning to learn optimal policies (strategies). \n",
    "\n",
    "Nature, \"Mastering the game of Go with deep neural networks and tree search\"\n",
    "http://www.nature.com/nature/journal/v529/n7587/full/nature16961.html or watch this talk https://youtu.be/aiwQsa_7ZIQ?t=300\n",
    "\n",
    "Reinforcement learning is the main focus of this note. The reason it is called deep reinforcement learning is that both CNN and RNN are big parts of it. CNN is used as external vision and leads to general purpose AI; RNN is used for predicting sequence of hidden states in the Markov decision model.  \n",
    "\n",
    "Nature, \"Human-level control through deep reinforcement learning\" http://www.nature.com/nature/journal/v518/n7540/full/nature14236.html"
   ]
  },
  {
   "cell_type": "markdown",
   "metadata": {
    "collapsed": true
   },
   "source": [
    "<a name='sss'></a>\n",
    "# 1. Small Scale States RL\n",
    "\n",
    "The dimension of states space of AlphaGo is 10^100 and compare this to the size of our universe. There are only 10^82 atoms in the entire universe! So we will need some approximation, sampling techniques to deal with AlphaGo. But before doing that, we will first study RL of small size problems.\n",
    "\n",
    "<a name ='mdp'></a>\n",
    "## Markov Decision Processes (MDP)\n",
    "\n",
    "First watch this video from early 50's by the father of information science, Claude Shannon, a mathematician."
   ]
  },
  {
   "cell_type": "code",
   "execution_count": 11,
   "metadata": {
    "collapsed": false
   },
   "outputs": [
    {
     "data": {
      "image/jpeg": "[encoded data removed]",
      "text/html": [
       "\n",
       "        <iframe\n",
       "            width=\"500\"\n",
       "            height=\"400\"\n",
       "            src=\"https://www.youtube.com/embed/vPKkXibQXGA?color=white&start=8&theme=light&showinfo=0&autoplay=0\"\n",
       "            frameborder=\"0\"\n",
       "            allowfullscreen\n",
       "        ></iframe>\n",
       "        "
      ],
      "text/plain": [
       "<IPython.lib.display.YouTubeVideo at 0x10b0ea890>"
      ]
     },
     "execution_count": 11,
     "metadata": {},
     "output_type": "execute_result"
    }
   ],
   "source": [
    "from IPython.display import YouTubeVideo\n",
    "YouTubeVideo(\"vPKkXibQXGA\", start=8, autoplay=0, theme=\"light\", color=\"white\", height=400, width=500,showinfo=0)"
   ]
  },
  {
   "cell_type": "markdown",
   "metadata": {
    "collapsed": true
   },
   "source": [
    "In the video, one can see it used relays as memory storage (store the action) and the algorithm was kind like depth first search. However such approach is hard to generalize. We will solve the same problem using a more general approach.\n",
    "\n",
    "### Bellman Equation\n",
    "\n",
    "\n",
    "A policy (decision) function is a map from states to actions\n",
    "\n",
    "$$\\pi: s \\rightarrow a, \\space \\pi= \\text{P}(a|s)$$ \n",
    "\n",
    "If it is Markov, then the next state is fully determined by the previous state and action. Assuming the states are fully observable, thus \n",
    "\n",
    "$$s_{t+1} = f(s_t, a_t)$$ \n",
    "\n",
    "For now we assume $f$ is a function (it is not the case for partially obserable MDP. Later when we do model free RL, we don't even have $f$ being distribution.) But notice $\\pi$ is almost always not a function. A policy can take multiple (stochastic) actions.\n",
    "\n",
    "There is also a reward function $$R(s,a)$$ \n",
    "\n",
    "It says when the system at state $s$, if it chooses the right action $a$, it will get some reward. Rewards are discounted by $\\gamma\\in[0,1]$ so that the algorithm will try to reach the maximum reward in shortest steps. Having a $\\gamma$ close to 1 allows to explore more pathes, and may endup cumulate more rewards in the long run. Later we will discuss them in detail in Exploration vs Exploitation section.\n",
    "\n",
    "The total goal now is to\n",
    "$$\\text{max}_{\\pi}\\big(\\mathbb{E}_{\\pi}[R(s_0,a_0)]+\\gamma \\mathbb{E}_{\\pi}[R(s_1,a_1)]+\\gamma^2\\mathbb{E}_{\\pi}[R(s_2,a_2)] +...\\big)$$\n",
    "\n",
    "\n",
    "The reason $R$ is surround by $\\mathbb{E}_{\\pi}$ is because $\\pi$ is not a function.\n",
    "\n",
    "Borrow idea from dynamic programming, let state-value function be\n",
    "\n",
    "$$V_{\\pi}(s_0) = \\mathbb{E}_{\\pi}[R(s_0,a_0)+\\gamma R(s_1,a_1)+\\gamma^2R(s_2,a_2)+...]$$\n",
    "\n",
    "In words, the state-value function is the expected return at state $s_0$.\n",
    "\n",
    "Then we get Bellman Expectation Equation:\n",
    "\n",
    "$$V_{\\pi}(s) = \\mathbb{E}_{\\pi}[R(s,\\pi(s))]+\\gamma V_{\\pi}(f(s,\\pi(s)))\\space\\space \\forall s$$\n",
    "\n",
    "Then finding the optimal policy $\\pi^*$ becomes\n",
    "\n",
    "$$\\pi^*=\\text{arg max}_{\\pi}(V_{\\pi}(s))\\space\\space\\forall s$$\n",
    "\n",
    "This is called Bellman Optimality Equation.\n",
    "\n",
    "The state-value function defined above works very similar to option pricing when the option is exotic and the stopping time is flexible. See for example Xinfeng Zhou, \"A practical guide to quantitative finance interview\" figure 5.7 on page 125 and figure 5.9 on page 128.\n",
    "\n",
    "\n",
    "### How to solve them?\n",
    "\n",
    "\n",
    "Iterative Method:\n",
    "\n",
    " - Policy Iteration: pick random policy (i.e. $\\pi$ with equal probability to all actions), use policy evaluation (explain below) to get state-value function, then update policy greedily, meaning pick actions (plural, can be more than one, $\\pi$ is not a function!) that give the maximal state-value increase. This is because we can pretend each state as the starting state and using the Bellman Optimality Equation above. Then loop over again, hence each loop is a workable policy, and you call the policy evaluation method, which will erase previous state-value function, re-initialize and iterate and make a new state-value function that reflects the new policy. That is why it is called policy iteration, policy is getting better and better, value-state always starts from random. For the mouse problem, as we will see, one iteration is enough. \n",
    " \n",
    "     - Policy Evaluation (backup evaluation): given a policy, start from some initial state-value function at episode $k=0$, then follow Bellman Expectation Equation to update state-value  function till converges\n",
    "$$V_{\\pi}^{(k+1)}(s) = \\mathbb{E}_{\\pi}[R(s,\\pi(s))]+\\gamma V_{\\pi}^{(k)}(f(s,\\pi(s))) $$ \n",
    "How do we know it has converged? Use Cauchy ($\\epsilon$-convergence) known as the stopping condition.\n",
    "         - Synchronous backups: During the update to $k+1$th episode, keep the old $V^{(k)}(s)$. Similar to batch gradient descent. \n",
    "         - Asynchronous backups: During the update, use the newest $V(s)$ whenever available, then the direction of sweeping will make a difference. Similar to stochastic gradient descent.\n",
    "         - On/Off line policy:\n",
    " \n",
    "  \n",
    " - Value Iteration: Instead of iteration state-value function to match policy. Now applying the greedy equation: \n",
    "$$\\pi^*=\\text{arg max}_{\\pi}(V_{\\pi}(s))\\space\\space\\forall s$$ to let policy match state-values. Starting with some random state-values, find the matching policy using greedy equation. Then apply once (known as one-step lookahead)\n",
    "$$V_{\\pi}^{(new)}(s) = \\mathbb{E}_{\\pi}[R(s,\\pi(s))]+\\gamma V_{\\pi}^{(old)}(f(s,\\pi(s))) $$ \n",
    "using the new policy. Then threw out the policy, get a new policy from the new state-values. Thus we see that in such fashion, the state-value is being backup updated from states mostly close to the largest rewards states to least close to the rewards states\n",
    "\n",
    "\n",
    "There is an alternative description. In the literature people sometimes pull out the argument $a$. Define action-value function \n",
    "\n",
    "$$Q_{\\pi}(s_0, a_0) = R(s_0,a_0)+\\mathbb{E}_{\\pi}[\\gamma R(s_1,a_1)+\\gamma^2R(s_2,a_2)+...]$$\n",
    "\n",
    "\n",
    "In words, the action-value function is the expected return starting at state $s_0$ with action $a_0$.\n",
    "\n",
    "\n",
    "Then\n",
    "\n",
    "$$Q_{\\pi}(s_0, a_0) = R(s_0,a_0)+ \\gamma V_{\\pi}(f(s_0, a_0))$$\n",
    "\n",
    "and\n",
    "\n",
    "$$V_{\\pi}(s_0) = \\mathbb{E}_{\\pi}[Q_{\\pi}(s_0, a_0)]$$\n",
    "\n",
    "Combining the two above, Bellman Expectation Equation is replaced by \n",
    "\n",
    "\n",
    "$$Q_{\\pi}(s, a) = R(s,a)+ \\gamma \\mathbb{E}_{\\pi}[Q_{\\pi}(f(s,a), \\pi(f(s,a))]\\space\\space\\forall s, \\forall a$$\n",
    "\n",
    "\n",
    "Here for notational convenience I make the optimal policy to be a \"function\" that outputs $a$'s for input $s$. So is below.\n",
    "\n",
    "Then finding the optimal policy $\\pi^*$ becomes\n",
    "\n",
    "$$\\pi^*(s)=\\text{arg max}_{a}(Q_{\\pi}(s, a))\\space\\space\\forall s$$\n",
    "\n",
    "which is too called Bellman Optimality Equation.  This description will help us later in Q-learning.\n",
    "\n",
    "\n",
    "Later we will talk about other methods: Q-learning (model free), Sarsa, Monte Carlo evaluation, temporal-difference learning ($\\lambda$ learn).\n",
    "\n",
    "\n",
    "### Claude Shannon Mouse Problem\n",
    "\n",
    "Let us now come back to the mouse problem. Actions = {up, down, left, right}, States = {positions on the board}, $f=$ advancing to the next state if there is no wall, stay same place if there is a wall. $R=0$ until it finds the exist. $\\gamma=0.5$.\n",
    "\n"
   ]
  },
  {
   "cell_type": "code",
   "execution_count": null,
   "metadata": {
    "collapsed": true
   },
   "outputs": [],
   "source": []
  },
  {
   "cell_type": "markdown",
   "metadata": {},
   "source": [
    "\n",
    "<a name='free'></a>\n",
    "## Model-Free Prediction"
   ]
  },
  {
   "cell_type": "markdown",
   "metadata": {},
   "source": [
    "## Model-Free Control"
   ]
  },
  {
   "cell_type": "markdown",
   "metadata": {},
   "source": [
    "<a name ='lll'></a>\n",
    "# 2. Large Scale RL\n",
    "\n",
    "## Value Function Approximation"
   ]
  },
  {
   "cell_type": "markdown",
   "metadata": {},
   "source": [
    "## Policy Gradient Methods"
   ]
  },
  {
   "cell_type": "markdown",
   "metadata": {},
   "source": [
    "## Integrating Learning and Planning"
   ]
  },
  {
   "cell_type": "markdown",
   "metadata": {},
   "source": [
    "## Exploration and Exploitation"
   ]
  },
  {
   "cell_type": "markdown",
   "metadata": {},
   "source": [
    "##  Case Study: RL in Classic Games"
   ]
  },
  {
   "cell_type": "code",
   "execution_count": null,
   "metadata": {
    "collapsed": true
   },
   "outputs": [],
   "source": []
  }
 ],
 "metadata": {
  "kernelspec": {
   "display_name": "Python 2",
   "language": "python",
   "name": "python2"
  },
  "language_info": {
   "codemirror_mode": {
    "name": "ipython",
    "version": 2
   },
   "file_extension": ".py",
   "mimetype": "text/x-python",
   "name": "python",
   "nbconvert_exporter": "python",
   "pygments_lexer": "ipython2",
   "version": "2.7.12"
  }
 },
 "nbformat": 4,
 "nbformat_minor": 1
}
