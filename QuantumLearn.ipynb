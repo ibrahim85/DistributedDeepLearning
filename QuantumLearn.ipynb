{
 "cells": [
  {
   "cell_type": "markdown",
   "metadata": {},
   "source": [
    "Quantum Computing on the Cloud, Quantum Machine Learning, Quantum Neural Network (Tensor Networks), Quantum Information Science and AdS/CFT Correspondence of Quantum Gravity\n",
    "=============\n",
    "\n",
    "Ron Wu\n",
    "-------------\n",
    "\n",
    "11/12/16\n",
    "\n",
    "Reference:   \n",
    "\n",
    "\n",
    "\n",
    "### Contents\n",
    "\n",
    " \n",
    "- <a href=#ibm>Quantum Computing on the IBM Cloud</a> \n",
    "    - Grover Algorithm\n",
    "    - Shor Algorithm\n",
    "    - Quantum Fourier Transform \n",
    "\n",
    "\n",
    "- Quantum Machine Learning\n",
    "    - Quantum Support Vector Machines\n",
    "    - Quantum Clustering and Quantum KNN\n",
    "    - Quantum Neural Networks  \n",
    "\n",
    "\n",
    "- Quantum Information Science and String Theory"
   ]
  },
  {
   "cell_type": "markdown",
   "metadata": {},
   "source": [
    "<a name='intr'></a>\n",
    "## Introduction\n",
    "\n",
    "Early this year, the first ever scalable numerical simulation of a complete molecule has been done. Read Ryan Babbush, \"Towards an exact (quantum) description of chemistry\" https://research.googleblog.com/2016/07/towards-exact-quantum-description-of.html. As Ryan Babbush put it in the title, this means using quantum computers we may be able to simulate and predict all chemical compounds and chemical reactions. Such many bodies problems were considered intractable by conventional computers (even cloud sourcing conventional computers). The new era of numerical science has thus begun.  "
   ]
  },
  {
   "cell_type": "markdown",
   "metadata": {},
   "source": [
    "<a name='ibm'></a>\n",
    "# 1. Quantum Computing on the IBM Cloud \n",
    "\n",
    "Since May of this year, IBM has provided the public to use their quantum computers.\n",
    "https://www-03.ibm.com/press/us/en/pressrelease/49661.wss. It supports 5 qubits.  \n",
    "I shall start by demonstrating some (classical) quantum algorithms on the IBM cloud:\n",
    "\n",
    "### Grover Algorithm\n"
   ]
  },
  {
   "cell_type": "markdown",
   "metadata": {},
   "source": [
    "### Shor Algorithm"
   ]
  },
  {
   "cell_type": "markdown",
   "metadata": {},
   "source": [
    "### Quantum Fourier Transform"
   ]
  },
  {
   "cell_type": "markdown",
   "metadata": {},
   "source": [
    "# 2. Quantum Machine Learning"
   ]
  },
  {
   "cell_type": "markdown",
   "metadata": {},
   "source": [
    "### Quantum Support Vector Machines"
   ]
  },
  {
   "cell_type": "markdown",
   "metadata": {},
   "source": [
    "### Quantum Clustering and Quantum KNN"
   ]
  },
  {
   "cell_type": "markdown",
   "metadata": {},
   "source": [
    "### Quantum Neural Networks and  Human Brain Project\n",
    "\n",
    "mapping human brain: http://www.cell.com/neuron/abstract/S0896-6273(16)30796-6, https://www.humanbrainproject.eu. There are 10 billion neurons in a human brain. This is a problem that can only be solved by quantum computers. \n"
   ]
  },
  {
   "cell_type": "markdown",
   "metadata": {},
   "source": [
    "# 3. Quantum Information Science and String Theory\n",
    "\n",
    "To fully understand Quantum Information Science , we need to know a little bit of its relation to Quantum Gravity, Space-time, Black Hole, Conformal Field Theory and String Theory. \n",
    "\n",
    "To know more about how quantum information science may fit to the unification theory of everything, read Sean Carroll, \"Does Spacetime Emerge From Quantum Information?\" http://www.preposterousuniverse.com/blog/2015/05/05/does-spacetime-emerge-from-quantum-information/\n",
    " "
   ]
  },
  {
   "cell_type": "code",
   "execution_count": null,
   "metadata": {
    "collapsed": true
   },
   "outputs": [],
   "source": []
  }
 ],
 "metadata": {
  "kernelspec": {
   "display_name": "Python 2",
   "language": "python",
   "name": "python2"
  },
  "language_info": {
   "codemirror_mode": {
    "name": "ipython",
    "version": 2
   },
   "file_extension": ".py",
   "mimetype": "text/x-python",
   "name": "python",
   "nbconvert_exporter": "python",
   "pygments_lexer": "ipython2",
   "version": "2.7.12"
  }
 },
 "nbformat": 4,
 "nbformat_minor": 1
}
