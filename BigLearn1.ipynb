{
 "cells": [
  {
   "cell_type": "markdown",
   "metadata": {},
   "source": [
    "Big Data Machine Learning, Distributed Machine Learning, Parallel Machine Learning with C++, CUDA, Scala, Spark\n",
    "=============\n",
    "\n",
    "Ron Wu\n",
    "-------------\n",
    "\n",
    "10/26/16\n",
    "\n",
    "Reference: free courses from the creators of\n",
    "<br>NVIDIA https://developer.nvidia.com/udacity-cs344-intro-parallel-programming<br>\n",
    "Scala http://www.scala-lang.org/blog/2016/05/23/scala-moocs-specialization-launched.html<br>\n",
    "Spark, Databricks https://databricks.com/blog/2016/06/01/databricks-to-launch-first-of-five-free-big-data-courses-on-apache-spark.html <br> \n",
    "### Contents\n",
    "\n",
    "\n",
    "1. <a href =#scala>Functional and Object-Oriented Scala</a>\n",
    "     - <a href=#scalab>Functional Aspect of Scala</a>\n",
    "         - <a href =#fun>First Class Function</a>\n",
    "         - <a href=#cl>Classes</a> \n",
    "     - <a href = #relu>Object-Oriented Aspect of Scala: Data-Parallelism</a> \n",
    "     - <a href = #relu>Scala with Spark</a> \n",
    "<br><br>\n",
    "2. <a href=#Spark>Big Data, Distributed Analysis with Spark</a>\n",
    "     - <a href =#entropy>Spark with Time Series: spark-ts</a> \n",
    "     - <a href =#entropy>Spark with TensorFlow: TensorFrames</a> \n",
    "     - <a href =#entropy>Other Spark Ecosystem</a> \n",
    "<br><br>\n",
    "3. <a href =#convnet>Parallel with CUDA, C++</a>\n",
    "     - <a href=#worked>Parallel Computing</a> \n",
    "     - <a href=#worked>GPU Programming</a> \n",
    "<br><br>\n",
    " "
   ]
  },
  {
   "cell_type": "markdown",
   "metadata": {},
   "source": [
    "<a name = 'scala'></a>\n",
    "# Functional and Object-Oriented Scala\n",
    "\n",
    "reference:\n",
    "Martin Odersky, https://www.coursera.org/learn/progfun1/\n",
    "http://docs.scala-lang.org/overviews/\n",
    "\n",
    "<a name = 'scalab'></a>\n",
    "## Functional Aspect of Scala\n",
    "\n",
    "For easier transition to parallel programming, throughout this notebook I will try to use functional style over imperative style whenever possible. That is because in parallel programming variables are immutable. Once it is set, it cannot be changed, which avoids a lot deadlocks. \n",
    "\n",
    "If a block of code is written in loop fashion, the compiler will turn it into functions, the iteration and any change of variables inside the loop are passing through the function calls. Thus whether you write it in serial or recursion, it will end up in recursive call anyway.  \n",
    "\n",
    "<a name='fun'></a>\n",
    "### First Class Functions\n",
    " "
   ]
  },
  {
   "cell_type": "code",
   "execution_count": 1,
   "metadata": {
    "collapsed": false
   },
   "outputs": [
    {
     "name": "stdout",
     "output_type": "stream",
     "text": [
      "Overwriting main.scala\n"
     ]
    }
   ],
   "source": [
    "%%file main.scala\n",
    "\n",
    "object main extends App {\n",
    "     \n",
    "    //def loop: Int = loop \n",
    "    \n",
    "    //Do not run, infinite loop\n",
    "    //val x = loop\n",
    "    \n",
    "    def square(x: Int) = x*x\n",
    "    \n",
    "\n",
    "    def squareFirstEle(x: Int, y: => Int) = square(x)\n",
    "\n",
    "    println(\"ignore the second argument: \"+squareFirstEle(2,4))\n",
    "    \n",
    "    // because y argument => is call-by-name, make it a inline function, \n",
    "    // hence will not evaluate, so no infinite loops\n",
    "    // without => it will evaluate y, which becomes an infinite loop\n",
    "    \n",
    "    //println(squareFirstEle(2, loop)) \n",
    "    \n",
    "    // Newton Method (steep descent) find square root \n",
    "\n",
    "    def sqrt(x: Double) = {\n",
    "        \n",
    "        def sqrtIter(guess: Double): Double =\n",
    "            if (math.abs(guess*guess-x) / x <0.01) guess\n",
    "            else sqrtIter((guess + x / guess)  / 2) \n",
    "        \n",
    "        sqrtIter(1.0)\n",
    "    }\n",
    "\n",
    "    println(\"square root: \"+sqrt(4.5)) \n",
    "    \n",
    "    \n",
    "    //\n",
    "    //\n",
    "    //      High order function \n",
    "    //\n",
    "    //\n",
    "    \n",
    "    def sum_v1(f: Int => Int, a: Int, b: Int): Int = \n",
    "        if (a > b) 0\n",
    "        else sum_v1(f, a+1, b) + f(a)\n",
    "    \n",
    "    println(\"sum of squares from 1 to 5: \" +sum_v1(square, 1, 5))\n",
    " \n",
    "    // rectify it to tail-recursion, \n",
    "    // write ordinary function in functional form\n",
    "    \n",
    "    def sum_v2(f: Int => Int)(a: Int, b: Int): Int = {\n",
    "        def loop(a: Int, acc: Int): Int = {\n",
    "            if (a>b) acc\n",
    "            else loop(a+1, acc + f(a))\n",
    "        }\n",
    "        loop(a, 0)\n",
    "    }\n",
    "    \n",
    "    println(\"the 2nd way, sum of squares from 1 to 5: \" +sum_v2(square)(1, 5))  \n",
    "\n",
    "    // sum_v3 is a truly functional\n",
    "    \n",
    "    def sum_v3(f: Int => Int): (Int, Int) => Int =  {\n",
    "        def sumF(a: Int, b: Int): Int = { \n",
    "            if (a>b) 0\n",
    "            else sumF(a+1,b) + f(a)\n",
    "        }\n",
    "        sumF\n",
    "    }\n",
    "    \n",
    "    println(\"the 3rd way, sum of squares from 1 to 5: \" + sum_v3(square)(1, 5))  \n",
    "\n",
    "    // passin anonymous  \n",
    "    \n",
    "    println(\"the 4th way, sum of squares from 1 to 5: \" + sum_v3(x=>x*x)(1, 5))  \n",
    " \n",
    "}"
   ]
  },
  {
   "cell_type": "code",
   "execution_count": 2,
   "metadata": {
    "collapsed": false
   },
   "outputs": [
    {
     "name": "stdout",
     "output_type": "stream",
     "text": [
      "ignore the second argument: 4\r\n",
      "square root: 2.1224976448422046\r\n",
      "sum of squares from 1 to 5: 55\r\n",
      "the 2nd way, sum of squares from 1 to 5: 55\r\n",
      "the 3rd way, sum of squares from 1 to 5: 55\r\n",
      "the 4th way, sum of squares from 1 to 5: 55\r\n"
     ]
    }
   ],
   "source": [
    "! scalac main.scala\n",
    "! scala main"
   ]
  },
  {
   "cell_type": "markdown",
   "metadata": {},
   "source": [
    "<a name='cl'></a>\n",
    "### Classes"
   ]
  },
  {
   "cell_type": "code",
   "execution_count": 3,
   "metadata": {
    "collapsed": false
   },
   "outputs": [
    {
     "name": "stdout",
     "output_type": "stream",
     "text": [
      "Overwriting main.scala\n"
     ]
    }
   ],
   "source": [
    "%%file main.scala\n",
    " \n",
    "\n",
    "object main extends App {\n",
    "\n",
    "    val r = new Rational(1,2)\n",
    "    println(\"r rational: \"+r.toString)\n",
    "\n",
    "\n",
    "    val s = new Rational(3,4)\n",
    "    \n",
    "    // this - is special it right next to the object\n",
    "    println(\"negative of s rational: \"+(-r).toString)\n",
    "    \n",
    "    //this is same as (r.+(s)).toString\n",
    "    println(\"sum of rationals r & s: \"+(r + s).toString)\n",
    "\n",
    "    val t = new Rational(2)\n",
    "    println(\"integer t: \"+t.toString)\n",
    "    \n",
    "}\n",
    "\n",
    "class Rational(x: Int, y: Int)  {\n",
    "    require( y!=0 , \"denominator not to be zero\")\n",
    "\n",
    "    //second constructor\n",
    "    def this(x: Int) = this(x, 1)\n",
    "\n",
    "    private def gcd(a:Int, b:Int) : Int =\n",
    "    //Euler method\n",
    "        if (b==0) a\n",
    "        else gcd(b, a%b)\n",
    "    private val g = math.abs(gcd(x, y))\n",
    "\n",
    "    val numer = x / g\n",
    "    val denom = y / g\n",
    "\n",
    "\n",
    "    override def toString =\n",
    "        if (y!=1) this.numer + \"/\" + this.denom\n",
    "        else (this.numer).toString\n",
    "\n",
    "    //normally + cannot be identifier, but in Scala is legal\n",
    "    def + (that: Rational) =\n",
    "        new Rational(this.numer*that.denom+this.denom*that.numer, this .denom*that.denom)\n",
    "\n",
    "    def unary_- = new Rational(-numer, denom)\n",
    "\n",
    "}"
   ]
  },
  {
   "cell_type": "code",
   "execution_count": 4,
   "metadata": {
    "collapsed": false
   },
   "outputs": [
    {
     "name": "stdout",
     "output_type": "stream",
     "text": [
      "r rational: 1/2\r\n",
      "negative of s rational: -1/2\r\n",
      "sum of rationals r & s: 5/4\r\n",
      "integer t: 2\r\n"
     ]
    }
   ],
   "source": [
    "! scalac main.scala\n",
    "! scala main"
   ]
  },
  {
   "cell_type": "code",
   "execution_count": 5,
   "metadata": {
    "collapsed": false
   },
   "outputs": [
    {
     "name": "stdout",
     "output_type": "stream",
     "text": [
      "Overwriting main.scala\n"
     ]
    }
   ],
   "source": [
    "%%file main.scala\n",
    " \n",
    "\n",
    "object main extends App {\n",
    "\n",
    "    val tree1 = new NonEmpty(3, new Empty, new  Empty)\n",
    "    val tree2 = tree1 insert 4  // a copy of tree1 with 4 inserted\n",
    "    println(tree1.toString)\n",
    "    println(tree2.toString)\n",
    "}\n",
    "\n",
    "abstract class Node{\n",
    "    def insert(x: Int) : Node\n",
    "    def search(x: Int) : Boolean\n",
    "}\n",
    "\n",
    "//single inheritance for multiple use with traits\n",
    "class Empty extends Node{\n",
    "\n",
    "    def insert(x: Int) : Node = new NonEmpty(x, new Empty, new Empty)\n",
    "    def search(x: Int) : Boolean = false\n",
    "    override def toString = \"-\"\n",
    "}\n",
    "\n",
    "//so the default constructor takes 3 arguments\n",
    "class NonEmpty(elem: Int, left: Node, right: Node)  extends Node{\n",
    "\n",
    "\n",
    "    def insert(x: Int) : Node =\n",
    "        if ( x<elem ) new NonEmpty(elem, left insert x , right)\n",
    "        else if (x>elem) new NonEmpty(elem, left, right insert x)\n",
    "        else this\n",
    "\n",
    "    def search(x: Int) : Boolean =\n",
    "        if ( x<elem ) left search x\n",
    "        else if ( x>elem ) right search x\n",
    "        else true\n",
    "    \n",
    "    // because of override in Empty, override left toString will be called\n",
    "    override def toString = \"{\" + left + elem + right + \"}\"\n",
    "}    "
   ]
  },
  {
   "cell_type": "code",
   "execution_count": 6,
   "metadata": {
    "collapsed": false
   },
   "outputs": [
    {
     "name": "stdout",
     "output_type": "stream",
     "text": [
      "{-3-}\r\n",
      "{-3{-4-}}\r\n"
     ]
    }
   ],
   "source": [
    "! scalac main.scala\n",
    "! scala main"
   ]
  },
  {
   "cell_type": "code",
   "execution_count": 7,
   "metadata": {
    "collapsed": false
   },
   "outputs": [
    {
     "name": "stdout",
     "output_type": "stream",
     "text": [
      "Overwriting main.scala\n"
     ]
    }
   ],
   "source": [
    "%%file main.scala\n",
    " \n",
    "//generic type\n",
    "\n",
    "import java.util.NoSuchElementException\n",
    "\n",
    "object main extends App {\n",
    "\n",
    "    def singleton[T](elem:T) = new Cons[T](elem, new Nil[T])\n",
    "\n",
    "    println(singleton[Double](1.1).data)\n",
    "    \n",
    "    // this will threw exception\n",
    "    // println(singleton[Double](1.1).pt.data)\n",
    "    \n",
    "    \n",
    "    //the type parameter is redundant \n",
    "    val list = new Cons(3, new Cons(2, new Cons(1, new Nil)))\n",
    "    println(list.data)\n",
    "    println(list.pt.data)\n",
    "    println(list.pt.pt.data)\n",
    "\n",
    "}\n",
    "\n",
    "//type parameter\n",
    "trait Node[T]{\n",
    "    def isEmpty: Boolean\n",
    "    def data: T\n",
    "    def pt: Node[T]\n",
    "}\n",
    "\n",
    "\n",
    "//like before, the default constructor takes 2 arguments\n",
    "//this also means that 2 corresponding fields of the class are\n",
    "//defined through pass in variables\n",
    "class Cons[T](val data: T, val pt: Node[T]) extends Node[T]{\n",
    "    def isEmpty = false\n",
    "}\n",
    "\n",
    "class Nil[T] extends Node[T]{\n",
    "    def isEmpty = true\n",
    "    def data : Nothing = throw new NoSuchElementException(\"Nil.data\")\n",
    "    def pt: Nothing = throw new NoSuchElementException(\"Nil.pt\")\n",
    "}"
   ]
  },
  {
   "cell_type": "code",
   "execution_count": 8,
   "metadata": {
    "collapsed": false
   },
   "outputs": [
    {
     "name": "stdout",
     "output_type": "stream",
     "text": [
      "1.1\r\n",
      "3\r\n",
      "2\r\n",
      "1\r\n"
     ]
    }
   ],
   "source": [
    "! scalac main.scala\n",
    "! scala main"
   ]
  },
  {
   "cell_type": "markdown",
   "metadata": {},
   "source": [
    "<a name='Spark'></a>\n",
    "# Big Data with Spark\n",
    "\n",
    "- Apache Spark Components \n",
    "    - Spark SQL\n",
    "    - Spark Streaming\n",
    "    - MLlib\n",
    "    - GraphX"
   ]
  },
  {
   "cell_type": "code",
   "execution_count": null,
   "metadata": {
    "collapsed": true
   },
   "outputs": [],
   "source": []
  }
 ],
 "metadata": {
  "kernelspec": {
   "display_name": "Python 2",
   "language": "python",
   "name": "python2"
  },
  "language_info": {
   "codemirror_mode": {
    "name": "ipython",
    "version": 2
   },
   "file_extension": ".py",
   "mimetype": "text/x-python",
   "name": "python",
   "nbconvert_exporter": "python",
   "pygments_lexer": "ipython2",
   "version": "2.7.12"
  }
 },
 "nbformat": 4,
 "nbformat_minor": 1
}
