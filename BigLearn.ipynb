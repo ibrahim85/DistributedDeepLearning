{
 "cells": [
  {
   "cell_type": "markdown",
   "metadata": {
    "collapsed": false
   },
   "source": [
    "Big Data Machine Learning, Distributed Machine Learning, Parallel Machine Learning with C++, CUDA, Scala, Spark\n",
    "=============\n",
    "\n",
    "Ron Wu\n",
    "-------------\n",
    "\n",
    "10/28/16\n",
    "\n",
    "Reference: free courses from the creators of\n",
    "<br>NVIDIA https://developer.nvidia.com/udacity-cs344-intro-parallel-programming<br>\n",
    "Scala http://www.scala-lang.org/blog/2016/05/23/scala-moocs-specialization-launched.html<br>\n",
    "Spark, Databricks https://databricks.com/blog/2016/06/01/databricks-to-launch-first-of-five-free-big-data-courses-on-apache-spark.html <br> \n",
    "### Contents\n",
    "\n",
    "\n",
    "1. <a href =#scala>Functional and Object-Oriented Scala</a>\n",
    "     - <a href=#scalab>Scala Foundation</a>\n",
    "     \n",
    "         - <a href =#fun>First Class Objects</a>\n",
    "         - <a href=#cl>Classes and the Three Pillars</a>  \n",
    "         - <a href=#obj>Objects Everywhere</a> \n",
    "         - <a href =#collect>Collections</a> \n",
    "     - <a href = #funDe>Functional Design in Scala</a> \n",
    "     \n",
    "         - <a href=#for>For Expression</a>\n",
    "         - <a href=#stream>Stream & Lazy Evaluation</a>\n",
    "         - <a href=#state>Mutable State</a>\n",
    "         - <a href=#event>Event Handling</a>\n",
    "         \n",
    "     - <a href = #pppro>Parallel Programming in Scala</a> \n",
    "     - <a href = #scalaspark>Scala with Spark</a>  \n",
    "<br><br>\n",
    "2. <a href=#Spark>Big Data, Distributed Analysis with Spark</a>\n",
    "     - <a href =#entropy>Spark with Time Series: spark-ts</a> \n",
    "     - <a href =#entropy>Spark with TensorFlow: TensorFrames</a> \n",
    "     - <a href =#entropy>Other Spark Ecosystem</a> \n",
    "<br><br>\n",
    "3. <a href =#cuda>Parallel with CUDA, C++</a>\n",
    "     - <a href=#worked>Parallel Computing</a> \n",
    "     - <a href=#worked>GPU Programming</a> \n",
    "<br><br>\n",
    " "
   ]
  },
  {
   "cell_type": "markdown",
   "metadata": {
    "collapsed": false
   },
   "source": [
    "<a name = 'scala'></a>\n",
    "# Functional and Object-Oriented Scala\n",
    "\n",
    "![](https://www.scientiamobile.com/images/icons/scala.gif)\n",
    "\n",
    "\n",
    "<a name = 'scalab'></a>\n",
    "## Scala Foundation\n",
    "\n",
    "\n",
    "The codes in this section are mostly copied from Martin Odersky course on coursera https://www.coursera.org/learn/progfun1/\n",
    "\n",
    "For easier transition to parallel programming, throughout this notebook I will try to use functional style over imperative style whenever possible. That is because in parallel programming variables are immutable. Once it is set, it cannot be changed, which avoids a lot deadlocks. \n",
    "\n",
    "If a block of code is written in loop fashion, the compiler will turn it into functions, the iteration and any change of variables inside the loop are passing through the function calls. Thus whether you write it in serial or recursion, it will end up in recursive call anyway.  \n",
    "\n",
    "<a name='fun'></a>\n",
    "### First Class Functions\n",
    " "
   ]
  },
  {
   "cell_type": "code",
   "execution_count": 1,
   "metadata": {
    "collapsed": false
   },
   "outputs": [
    {
     "data": {
      "text/plain": [
       "4"
      ]
     },
     "execution_count": 1,
     "metadata": {},
     "output_type": "execute_result"
    }
   ],
   "source": [
    "//it is okay to do this, because def is call-by-name, only definition\n",
    "def loop: Int = loop \n",
    "\n",
    "//Do not run, infinite loop, because val is call-by-value\n",
    "//val l = loop\n",
    "    \n",
    "def square(x: Int) = x*x\n",
    "\n",
    "def squareFirstEle(x: Int, y: => Int) = square(x)\n",
    "// => makes y call-by-name, so passing in loop is okay\n",
    "squareFirstEle(2,loop)"
   ]
  },
  {
   "cell_type": "code",
   "execution_count": 2,
   "metadata": {
    "collapsed": false
   },
   "outputs": [
    {
     "data": {
      "text/plain": [
       "2.1224976448422046"
      ]
     },
     "execution_count": 2,
     "metadata": {},
     "output_type": "execute_result"
    }
   ],
   "source": [
    "// Newton Method (steep descent or fix point) find square root\n",
    "\n",
    "def sqrt(x: Double) = {\n",
    "        \n",
    "    def sqrtIter(guess: Double): Double =\n",
    "        if (math.abs(guess*guess-x) / x < 0.01) guess\n",
    "        else sqrtIter((guess + x / guess) / 2) \n",
    "\n",
    "    sqrtIter(1.0)\n",
    "}\n",
    "\n",
    "sqrt(4.5)"
   ]
  },
  {
   "cell_type": "code",
   "execution_count": 3,
   "metadata": {
    "collapsed": false
   },
   "outputs": [
    {
     "data": {
      "text/plain": [
       "55"
      ]
     },
     "execution_count": 3,
     "metadata": {},
     "output_type": "execute_result"
    }
   ],
   "source": [
    "//  High order function  \n",
    "\n",
    "def sum_v1(f: Int => Int, a: Int, b: Int): Int = {\n",
    "    if (a > b) 0\n",
    "    else sum_v1(f, a+1, b) + f(a)\n",
    "}\n",
    "\n",
    "\n",
    "// find the sum of the squares from 1 to 5 \n",
    "sum_v1(square, 1, 5)"
   ]
  },
  {
   "cell_type": "code",
   "execution_count": 4,
   "metadata": {
    "collapsed": false
   },
   "outputs": [
    {
     "data": {
      "text/plain": [
       "55"
      ]
     },
     "execution_count": 4,
     "metadata": {},
     "output_type": "execute_result"
    }
   ],
   "source": [
    "// rectify above to tail-recursion, so will not build up the stack\n",
    "    \n",
    "def sum_v2(f: Int => Int, a: Int, b: Int): Int = {\n",
    "    def loop(a: Int, acc: Int): Int = {\n",
    "        if (a > b) acc\n",
    "        else loop(a+1, acc + f(a))\n",
    "    }\n",
    "    loop(a, 0)\n",
    "}\n",
    "\n",
    "sum_v2(square, 1, 5)"
   ]
  },
  {
   "cell_type": "code",
   "execution_count": 5,
   "metadata": {
    "collapsed": false
   },
   "outputs": [
    {
     "data": {
      "text/plain": [
       "55"
      ]
     },
     "execution_count": 5,
     "metadata": {},
     "output_type": "execute_result"
    }
   ],
   "source": [
    "// sum_v3 is a pure functional\n",
    "    \n",
    "def sum_v3(f: Int => Int): (Int, Int) => Int =  {\n",
    "        def sumF(a: Int, b: Int): Int = { \n",
    "            if (a>b) 0\n",
    "            else sumF(a+1,b) + f(a)\n",
    "        }\n",
    "        sumF\n",
    "}\n",
    "\n",
    "// passing in anonymous\n",
    "sum_v3(x => x*x)(1, 5) "
   ]
  },
  {
   "cell_type": "markdown",
   "metadata": {
    "collapsed": true
   },
   "source": [
    "<a name='cl'></a>\n",
    "### Classes and the Three Pillars "
   ]
  },
  {
   "cell_type": "code",
   "execution_count": 6,
   "metadata": {
    "collapsed": false
   },
   "outputs": [
    {
     "name": "stdout",
     "output_type": "stream",
     "text": [
      "r rational: 1/2\n",
      "negative of s rational: -1/2\n",
      "sum of rationals r & s: 5/4\n",
      "integer t: 2\n"
     ]
    }
   ],
   "source": [
    "//\n",
    "// Encapsulation\n",
    "//\n",
    "\n",
    "class Rational(x: Int, y: Int)  {\n",
    "    require( y != 0 , \"denominator not to be zero\")\n",
    "\n",
    "    //second constructor\n",
    "    def this(x: Int) = this(x, 1)\n",
    "\n",
    "    private def gcd(a:Int, b:Int) : Int =\n",
    "    //Euler method\n",
    "        if (b==0) a\n",
    "        else gcd(b, a%b)\n",
    "    private val g = math.abs(gcd(x, y))\n",
    "\n",
    "    val numer = x / g\n",
    "    val denom = y / g\n",
    "\n",
    "\n",
    "    override def toString =\n",
    "        if (y!=1) this.numer + \"/\" + this.denom\n",
    "        else (this.numer).toString\n",
    "\n",
    "    //normally + cannot be identifier, but in Scala is legal\n",
    "    def + (that: Rational) =\n",
    "        new Rational(this.numer*that.denom+this.denom*that.numer, this .denom*that.denom)\n",
    "\n",
    "    def unary_- = new Rational(-numer, denom)\n",
    "\n",
    "}\n",
    "\n",
    "val r = new Rational(1,2)\n",
    "println(\"r rational: \" + r.toString)\n",
    "\n",
    "\n",
    "val s = new Rational(3,4)\n",
    "\n",
    "// this - is special it right next to the object, so use unary_-\n",
    "println(\"negative of s rational: \"+(-r).toString)\n",
    "\n",
    "//this is same as (r.+(s)).toString\n",
    "println(\"sum of rationals r & s: \" + (r + s).toString)\n",
    "\n",
    "val t = new Rational(2)\n",
    "println(\"integer t: \"+t.toString)"
   ]
  },
  {
   "cell_type": "code",
   "execution_count": 7,
   "metadata": {
    "collapsed": false
   },
   "outputs": [
    {
     "name": "stdout",
     "output_type": "stream",
     "text": [
      "{-3-}\n",
      "{-3{-4-}}\n"
     ]
    }
   ],
   "source": [
    "//\n",
    "//  inheritance\n",
    "//\n",
    "\n",
    "abstract class Node{\n",
    "    def insert(x: Int) : Node\n",
    "    def search(x: Int) : Boolean\n",
    "}\n",
    "\n",
    "//Java supports only single inheritance. For multiple, use with traits\n",
    "\n",
    "//so the default constructor takes 3 arguments\n",
    "class NonEmpty(elem: Int, left: Node, right: Node)  extends Node{\n",
    "\n",
    "\n",
    "    def insert(x: Int) : Node = {\n",
    "        if ( x < elem ) new NonEmpty(elem, left insert x , right)\n",
    "        else if (x > elem) new NonEmpty(elem, left, right insert x)\n",
    "        else this\n",
    "    }\n",
    "\n",
    "    def search(x: Int) : Boolean = {\n",
    "        if ( x < elem ) left search x\n",
    "        else if ( x > elem ) right search x\n",
    "        else true\n",
    "    }\n",
    "    \n",
    "    // because of override in Empty, override left toString will be called\n",
    "    override def toString = \"{\" + left + elem + right + \"}\"\n",
    "}    \n",
    "\n",
    "class Empty extends Node{\n",
    "\n",
    "    def insert(x: Int) : Node = new NonEmpty(x, new Empty, new Empty)\n",
    "    def search(x: Int) : Boolean = false\n",
    "    override def toString = \"-\"\n",
    "}\n",
    "\n",
    "val tree1 = new NonEmpty(3, new Empty, new  Empty)\n",
    "\n",
    "// a copy of tree1 with 4 inserted\n",
    "val tree2 = tree1 insert 4  \n",
    "\n",
    "println(tree1.toString)\n",
    "println(tree2.toString)"
   ]
  },
  {
   "cell_type": "code",
   "execution_count": 4,
   "metadata": {
    "collapsed": false
   },
   "outputs": [
    {
     "name": "stdout",
     "output_type": "stream",
     "text": [
      "1.1\n",
      "3\n",
      "2\n",
      "1\n"
     ]
    }
   ],
   "source": [
    "//\n",
    "//  Polymorphism\n",
    "//\n",
    "\n",
    "import java.util.NoSuchElementException \n",
    "\n",
    "//type parameter\n",
    "trait Node[T]{\n",
    "    def isEmpty: Boolean\n",
    "    def data: T\n",
    "    def pt: Node[T]\n",
    "}\n",
    "\n",
    "\n",
    "//the default constructor takes 2 arguments\n",
    "//this also means that 2 corresponding fields of the class are\n",
    "//defined through pass in variables\n",
    "class Cons[T](val data: T, val pt: Node[T]) extends Node[T]{\n",
    "    def isEmpty = false\n",
    "}\n",
    "\n",
    "class Nil[T] extends Node[T]{\n",
    "    def isEmpty = true\n",
    "    def data : Nothing = throw new NoSuchElementException(\"Nil.data\")\n",
    "    def pt: Nothing = throw new NoSuchElementException(\"Nil.pt\")\n",
    "}\n",
    "\n",
    "def singleton[T](elem:T) = new Cons[T](elem, new Nil[T])\n",
    "\n",
    "println(singleton[Double](1.1).data)\n",
    "\n",
    "\n",
    "// this will threw exception\n",
    "// println(singleton[Double](1.1).pt.data)\n",
    "\n",
    "\n",
    "//the type parameter is redundant \n",
    "val ll = new Cons(3, new Cons(2, new Cons(1, new Nil)))\n",
    "\n",
    "println(ll.data)\n",
    "println(ll.pt.data)\n",
    "println(ll.pt.pt.data) "
   ]
  },
  {
   "cell_type": "markdown",
   "metadata": {
    "collapsed": true
   },
   "source": [
    "<a name ='ooscala'></a> \n",
    "## Object-Oriented Aspect of Scala\n",
    "\n",
    "\n",
    "<a name ='obj'></a>\n",
    "### Objects Everywhere"
   ]
  },
  {
   "cell_type": "code",
   "execution_count": 1,
   "metadata": {
    "collapsed": false
   },
   "outputs": [
    {
     "name": "stdout",
     "output_type": "stream",
     "text": [
      "III\n",
      "II\n"
     ]
    }
   ],
   "source": [
    "/*\n",
    "    this cell can only run once, because it has static object\n",
    "*/\n",
    "\n",
    "// This shows unsigned Int, a primitive type, can be represented as class object\n",
    "// This is the same idea in Number theory that one can construct every natural number\n",
    "// starting from the empty set\n",
    "\n",
    "abstract class Nat {\n",
    "    def isZero: java.lang.Boolean\n",
    "    def predecessor: Nat\n",
    "    def successor: Nat\n",
    "    def + (that: Nat): Nat\n",
    "    def - (that: Nat): Nat \n",
    "    override def toString: String\n",
    "}\n",
    "\n",
    "\n",
    "class Succ(n: Nat) extends Nat{\n",
    "    def isZero = false\n",
    "    def predecessor = n\n",
    "    def successor = new Succ(this)\n",
    "    def +(that: Nat) = new Succ(n + that)\n",
    "    def -(that: Nat) = if (that.isZero) this else n - that.predecessor\n",
    "\n",
    "    override def toString: String = \"I\" + n\n",
    "}\n",
    "\n",
    "//hence zero is unique\n",
    "object Zero extends Nat{\n",
    "    def isZero = true\n",
    "    def predecessor = throw new Error(\"0 has no pred\")\n",
    "    def successor = new Succ(this)\n",
    "    def +(that: Nat) = that\n",
    "    def -(that: Nat) = if (that.isZero) this else throw new Error(\"negative number\")\n",
    "\n",
    "    override def toString: String = \"\"\n",
    "}\n",
    "\n",
    "\n",
    "def NextNat = new Succ(Zero)\n",
    "val one = NextNat\n",
    "val two = one.successor\n",
    "val three = two.successor\n",
    "println(three)\n",
    "println(three-one)"
   ]
  },
  {
   "cell_type": "code",
   "execution_count": 5,
   "metadata": {
    "collapsed": false
   },
   "outputs": [
    {
     "data": {
      "text/plain": [
       "4"
      ]
     },
     "execution_count": 5,
     "metadata": {},
     "output_type": "execute_result"
    }
   ],
   "source": [
    "//\n",
    "// Functions as objects too\n",
    "//\n",
    "\n",
    "// function take 1 argument, with type parameters A, B \n",
    "trait Function1[A,B]{\n",
    "    def apply(x : A) : B\n",
    "}\n",
    "\n",
    "\n",
    "def f =  {\n",
    "    // anonymous function \n",
    "    // (x: Int) => x*x\n",
    "    // the name AnonFun only exists inside of the block\n",
    "    class AnonFun extends Function1[Int, Int] {\n",
    "        def apply(x: Int) = x*x\n",
    "    }\n",
    "    new AnonFun\n",
    "}\n",
    "\n",
    "f(2)"
   ]
  },
  {
   "cell_type": "markdown",
   "metadata": {},
   "source": [
    "#### Covariance, Invariance and Contravariance\n"
   ]
  },
  {
   "cell_type": "code",
   "execution_count": 1,
   "metadata": {
    "collapsed": false
   },
   "outputs": [],
   "source": [
    "\n",
    "/*\n",
    "\n",
    "Let us denote type A is derived from type B as\n",
    "\n",
    "    A < B \n",
    "    \n",
    "If f is a type transformation, e.g. A -> Array[A], or work with generic A -> List<A>, \n",
    "\n",
    "Convariance \n",
    "\n",
    "    A < B => f(A) < f(B)\n",
    "\n",
    "controvariance\n",
    "\n",
    "    A < B => f(A) > f(B)\n",
    "    \n",
    "invariance\n",
    "\n",
    "    Neither above.\n",
    "    \n",
    "In Java, Array[] is convariance, and generic is invariance, \n",
    "\n",
    "but in scala, both are not covariant.\n",
    "\n",
    "but just like in Java, one can turn them into co/controvariace by using the wildcards\n",
    "\n",
    "\n",
    "That is\n",
    " \n",
    "    B[] array_b = new A[1]; \n",
    "\n",
    "is allowed and ArrayList<B> list_b = new ArrayList<A>(); is not allowed.\n",
    "\n",
    "and elements of array_b are actually upcasted type A object. This could cause runtime errors.\n",
    "\n",
    "\n",
    "That is\n",
    "\n",
    "        \n",
    "    B b = new A();  // both are fine\n",
    "    \n",
    "    b = new B();\n",
    "        \n",
    "    \n",
    "\n",
    "But if you put them in array\n",
    "\n",
    "    B[] array_b = new A[1];  \n",
    "    \n",
    "    array_b[0] = new B();     // this passes the compiler but at runtime throw ArrayStoreException\n",
    "    \n",
    "    //what one should do is\n",
    "    \n",
    "    array_b[0] = new A(); \n",
    "    \n",
    "    //or\n",
    "    \n",
    "    array_b[0] = (B)new A(); \n",
    "\n",
    "\n",
    "The wildcards make compiler aware the problems\n",
    "    \n",
    "    ArrayList<? extends B> list_b = new ArrayList<A>();\n",
    "    \n",
    "    ArrayList<? super A> list_a = new ArrayList<B>();\n",
    "    \n",
    "\n",
    "In this way, the compiler can check the type and will not pass the check. Because\n",
    "\n",
    "now the compiler knows \n",
    "    \n",
    "\n",
    "    elements of list_b are sub class of B, hence any method of any sub class of B\n",
    "    \n",
    "including B itself can be safely invoked on elements of list_b\n",
    "\n",
    "\n",
    "    elements of list_a are super class of A, hence any super class of A including A itself \n",
    "    \n",
    "can be safely casted into list_a. \n",
    "\n",
    "\n",
    "so unlike before\n",
    "\n",
    "    list_b.add(new B()); // will not pass the compiler. In fact the compiler won't allow to add anything\n",
    "    \n",
    "    // the legitimate way is to copy\n",
    "    \n",
    "    // first create something\n",
    "    ArrayList<A> someList = new ArrayList<A>();\n",
    "    someList.add(new A());\n",
    "        \n",
    "    // then\n",
    "    ArrayList<? extends B> list_b = new ArrayList<A>(someList);\n",
    "    list_b.get(0) //this is actually object A, not the upcasted A\n",
    "\n",
    "    //For the super list\n",
    "    ArrayList<? super A> list_a = new ArrayList<B>();\n",
    "    list_a.add(new A());\n",
    "    \n",
    "    // or\n",
    "    \n",
    "    \n",
    "*/\n",
    "\n",
    "// In Scala  putting + / - , otherwise it is invariant\n",
    "    \n",
    "\n",
    "class Covariance_List[+T]{}\n",
    "class Controvariace_List[-T]{} \n",
    "\n",
    "class B {}\n",
    "class A extends B {} \n",
    "\n",
    "object main extends App{\n",
    "    val list_B : Covariance_List[B] = new Covariance_List[A] \n",
    "    val list_A : Controvariace_List[A] = new Controvariace_List[B]  \n",
    "}\n"
   ]
  },
  {
   "cell_type": "markdown",
   "metadata": {
    "collapsed": true
   },
   "source": [
    "<a name ='collect'></a>\n",
    "## Collections\n",
    "\n",
    "Lists"
   ]
  },
  {
   "cell_type": "code",
   "execution_count": 27,
   "metadata": {
    "collapsed": false
   },
   "outputs": [
    {
     "name": "stdout",
     "output_type": "stream",
     "text": [
      "3\n",
      "List(1, 2)\n",
      "1\n",
      "List(1, 2, 3, 4, 5, 6)\n",
      "List(List(4, 5, 6), 1, 2, 3)\n"
     ]
    }
   ],
   "source": [
    "//\n",
    "// List, Immutable\n",
    "//\n",
    "\n",
    "val list1 = List(1,2,3)\n",
    "val list2 = List(4,5,6) \n",
    "println(list1.length)\n",
    "println(list1.take(2))\n",
    "println(list1(0))\n",
    "\n",
    "//same as list1 ++ list2, \n",
    "println(list1 ::: list2)\n",
    "\n",
    "//:: is the append method in List1, with three ::: another : reverse the operands\n",
    "println(list1.::( list2) )"
   ]
  },
  {
   "cell_type": "code",
   "execution_count": 28,
   "metadata": {
    "collapsed": false
   },
   "outputs": [
    {
     "data": {
      "text/plain": [
       "List(1, 2, 3, 4, 5, 6)"
      ]
     },
     "execution_count": 28,
     "metadata": {},
     "output_type": "execute_result"
    }
   ],
   "source": [
    "//\n",
    "// impletment concatenation\n",
    "\n",
    "def concat[T](xs: List[T], ys: List[T]): List[T] = xs match {\n",
    "    case List() => ys\n",
    "    case z :: zs => z :: concat(zs, ys)    \n",
    "}\n",
    "\n",
    "concat(list1, list2)"
   ]
  },
  {
   "cell_type": "code",
   "execution_count": 29,
   "metadata": {
    "collapsed": false
   },
   "outputs": [
    {
     "data": {
      "text/plain": [
       "List(1, 3)"
      ]
     },
     "execution_count": 29,
     "metadata": {},
     "output_type": "execute_result"
    }
   ],
   "source": [
    "// implement removeAt\n",
    "\n",
    "def removeAt[T](n: Int, x: List[T]) = {\n",
    "    (x take n) ::: (x drop n+1)\n",
    "}\n",
    "\n",
    "removeAt(1, list1)"
   ]
  },
  {
   "cell_type": "code",
   "execution_count": 40,
   "metadata": {
    "collapsed": false
   },
   "outputs": [
    {
     "data": {
      "text/plain": [
       "List(1, 5, 10, 15, 30)"
      ]
     },
     "execution_count": 40,
     "metadata": {},
     "output_type": "execute_result"
    }
   ],
   "source": [
    "// insertion sort\n",
    "\n",
    "\n",
    "def isort(xs: List[Int]): List[Int] = xs match {\n",
    "    case List() => List()\n",
    "    case y :: ys => {\n",
    "        def insert(x1: Int, xs1: List[Int]): List[Int] = xs1 match {\n",
    "            case List() => List(x1)\n",
    "            case y1 :: ys1 => if (x1 < y1) x1 :: xs1 else y1 :: insert(x1, ys1)\n",
    "        }\n",
    "        insert(y, isort(ys))\n",
    "    }\n",
    "}\n",
    "\n",
    "isort(List(5, 30, 10, 1, 15))"
   ]
  },
  {
   "cell_type": "code",
   "execution_count": 46,
   "metadata": {
    "collapsed": false
   },
   "outputs": [
    {
     "data": {
      "text/plain": [
       "List(1, 5, 10, 15, 30)"
      ]
     },
     "execution_count": 46,
     "metadata": {},
     "output_type": "execute_result"
    }
   ],
   "source": [
    "//\n",
    "// merge sort\n",
    "//\n",
    " \n",
    "def msort(xs: List[Int]) : List[Int] = {\n",
    "\n",
    "    val n = xs.length / 2\n",
    "    if (n==0) xs\n",
    "    else {\n",
    "        def merge(xs: List[Int], ys: List[Int]): List[Int] = (xs, ys) match {\n",
    "            case (Nil, ys) => ys\n",
    "            case (xs, Nil) => xs\n",
    "            case (x :: xs1, y:: ys1) => { \n",
    "                \n",
    "                if (x < y) x :: merge(xs1, ys)\n",
    "                else y :: merge(xs, ys1)\n",
    "            }\n",
    "             \n",
    "        } \n",
    "        val (fst , snd ) = xs splitAt n\n",
    "        merge(msort(fst), msort(snd))\n",
    "    }\n",
    "}\n",
    "\n",
    "msort(List(5, 30, 10, 1, 15))\n",
    "\n"
   ]
  },
  {
   "cell_type": "code",
   "execution_count": 49,
   "metadata": {
    "collapsed": false
   },
   "outputs": [
    {
     "data": {
      "text/plain": [
       "List(1, 5, 10, 15, 30)"
      ]
     },
     "execution_count": 49,
     "metadata": {},
     "output_type": "execute_result"
    }
   ],
   "source": [
    "// merge sort with type parameter, user-defined comparison\n",
    "\n",
    "\n",
    "def msort[T](xs: List[T])(lt: (T,T) => Boolean) : List[T] = {\n",
    "\n",
    "        val n = xs.length / 2\n",
    "        if (n==0) xs\n",
    "        else {\n",
    "            def merge(xs: List[T], ys: List[T]): List[T] = (xs, ys) match {\n",
    "                case (Nil, y :: ys1) => ys\n",
    "                case (x :: xs1, Nil) => xs\n",
    "                case (x :: xs1, y:: ys1) => {\n",
    "\n",
    "                    if (lt(x,y)) x :: merge(xs1, ys)\n",
    "                    else y :: merge(xs, ys1)\n",
    "                }\n",
    "\n",
    "            }\n",
    "\n",
    "            val (fst , snd ) = xs splitAt n\n",
    "            merge(msort(fst)(lt), msort(snd)(lt))\n",
    "        }\n",
    "    }\n",
    "\n",
    "\n",
    "msort(List(5, 30, 10, 1, 15))((x, y) => x < y)"
   ]
  },
  {
   "cell_type": "code",
   "execution_count": 9,
   "metadata": {
    "collapsed": false
   },
   "outputs": [
    {
     "data": {
      "text/plain": [
       "List(1, 5, 10, 15, 30)"
      ]
     },
     "execution_count": 9,
     "metadata": {},
     "output_type": "execute_result"
    }
   ],
   "source": [
    "// merge sort with type parameter, default ordering comparison\n",
    "// adding implicit and ask compiler to fill in the missing part\n",
    "\n",
    "import math.Ordering \n",
    "\n",
    "def msort[T](xs: List[T])(implicit ord: Ordering[T]) : List[T] = {\n",
    "\n",
    "    val n = xs.length / 2\n",
    "    if (n==0) xs\n",
    "    else {\n",
    "        def merge(xs: List[T], ys: List[T]) : List[T] = (xs, ys) match {\n",
    "            case (Nil, y :: ys1) => ys\n",
    "            case (x :: xs1, Nil) => xs\n",
    "            case (x :: xs1, y:: ys1) => {\n",
    "\n",
    "                if (ord.lt(x,y)) x :: merge(xs1, ys)\n",
    "                else y :: merge(xs, ys1)\n",
    "            }\n",
    "\n",
    "        }\n",
    "\n",
    "        val (fst , snd ) = xs splitAt n\n",
    "        merge(msort(fst), msort(snd)) \n",
    "        //merge(msort(fst)(ord), msort(snd)(ord)) \n",
    "    }\n",
    "}\n",
    "\n",
    "\n",
    "//without implicit, we need to\n",
    "//msort(List(5, 30, 10, 1, 15))(Ordering.Int) \n",
    "\n",
    "msort(List(5, 30, 10, 1, 15))"
   ]
  },
  {
   "cell_type": "code",
   "execution_count": 20,
   "metadata": {
    "collapsed": false
   },
   "outputs": [
    {
     "name": "stdout",
     "output_type": "stream",
     "text": [
      "List(5, 15, 25, 10, 20)\n",
      "List(3, 9, 15, 6, 12)\n",
      "List(1, 2)\n",
      "List(3, 5, 4)\n",
      "(List(1, 2),List(3, 5, 4))\n",
      "List(1)\n",
      "List(3, 5, 2, 4)\n",
      "(List(1),List(3, 5, 2, 4))\n"
     ]
    }
   ],
   "source": [
    "//  functions on list, using map, filter ...\n",
    "// using them wisely is important, because we don't want to write any loops.\n",
    "\n",
    "\n",
    "def rescale(xs: List[Int], factor :Int) = {\n",
    "    xs map (x => x * factor)   //Scala map is tail-recursive\n",
    "}\n",
    "\n",
    "val l = List(1, 3, 5, 2, 4)\n",
    "println(rescale(l, 5))\n",
    "\n",
    "// or\n",
    "\n",
    "println(l map (x => x * 3)) \n",
    "\n",
    "println(l filter (x => x < 3))\n",
    "println(l filterNot (x => x < 3))\n",
    "println(l partition (x => x <3))  //partition around filter and fitlerNot\n",
    "  \n",
    "\n",
    "println(l takeWhile (x => x< 3))  // take the prefix of the list up the criteria \n",
    "println(l dropWhile (x => x< 3)) \n",
    "println(l span (x => x< 3))       // combine takeWhile and dropWhile"
   ]
  },
  {
   "cell_type": "code",
   "execution_count": 24,
   "metadata": {
    "collapsed": false
   },
   "outputs": [
    {
     "data": {
      "text/plain": [
       "List((a,3), (b,2), (c,1), (a,1))"
      ]
     },
     "execution_count": 24,
     "metadata": {},
     "output_type": "execute_result"
    }
   ],
   "source": [
    "// implement encode. No loops\n",
    "\n",
    "def encode [T](xs: List[T]) = {\n",
    "\n",
    "        def pack(ls: List[T]) : List[List[T]] =  ls match{\n",
    "\n",
    "            case List() => List()\n",
    "            case x :: xs1 => {\n",
    "                val (fst, scn) = ls span (y => y == x)\n",
    "                fst :: pack(scn)\n",
    "            }\n",
    "        }\n",
    "        pack(xs) map ( x => (x.head, x.length))\n",
    "    }\n",
    "\n",
    " \n",
    "\n",
    "val data = List(\"a\", \"a\", \"a\", \"b\", \"b\", \"c\", \"a\")\n",
    "\n",
    "encode(data)"
   ]
  },
  {
   "cell_type": "code",
   "execution_count": 31,
   "metadata": {
    "collapsed": false
   },
   "outputs": [
    {
     "data": {
      "text/plain": [
       "10"
      ]
     },
     "execution_count": 31,
     "metadata": {},
     "output_type": "execute_result"
    }
   ],
   "source": [
    "// reduceLeft applies operation to the left of the element \n",
    "// so below is the same as, but it will be tail-recursive, using foldLeft\n",
    "//      \n",
    "//     (( 1 + 2 ) + 3 ) +4\n",
    "//\n",
    "List(1,2,3,4).reduceLeft( _ + _ ) //  _ + _  is the same as (x, y) => x + y "
   ]
  },
  {
   "cell_type": "code",
   "execution_count": 32,
   "metadata": {
    "collapsed": false
   },
   "outputs": [
    {
     "data": {
      "text/plain": [
       "10"
      ]
     },
     "execution_count": 32,
     "metadata": {},
     "output_type": "execute_result"
    }
   ],
   "source": [
    "// reduceRight applies operation to the right of the element \n",
    "// so below is the same as\n",
    "//      \n",
    "//    1 + ( 2 + ( 3 + 4 ) )\n",
    "//\n",
    "List(1,2,3,4).reduceRight( _ + _ )"
   ]
  },
  {
   "cell_type": "code",
   "execution_count": 84,
   "metadata": {
    "collapsed": false
   },
   "outputs": [
    {
     "name": "stdout",
     "output_type": "stream",
     "text": [
      "10\n",
      "0\n"
     ]
    }
   ],
   "source": [
    "// foldLeft\n",
    "\n",
    "val z = 0\n",
    "\n",
    "println((List(1,2,3,4) foldLeft z )( _ + _ )) \n",
    "\n",
    "//tail-recursive, using z as initial accumulator, but the value of z doesn't change\n",
    "\n",
    "println(z)"
   ]
  },
  {
   "cell_type": "code",
   "execution_count": 65,
   "metadata": {
    "collapsed": false
   },
   "outputs": [
    {
     "name": "stdout",
     "output_type": "stream",
     "text": [
      "List(pear, apple, banana, pineapple)\n",
      "List(apple, banana, pear, pineapple)\n"
     ]
    }
   ],
   "source": [
    "\n",
    "// List has sorted \n",
    "\n",
    "val fruit = List(\"apple\",\"pineapple\", \"pear\", \"banana\")\n",
    "\n",
    "println(fruit sortWith(_.length < _.length))\n",
    "println(fruit sorted)"
   ]
  },
  {
   "cell_type": "code",
   "execution_count": null,
   "metadata": {
    "collapsed": true
   },
   "outputs": [],
   "source": [
    "// iterable\n",
    "//   sequence\n",
    "//     List -> linked list\n",
    "//     Vectors -> very shallow tree, node has 32 children \n",
    "//     array\n",
    "//     string\n",
    "//     range\n",
    "//   set \n",
    "//   map"
   ]
  },
  {
   "cell_type": "code",
   "execution_count": 26,
   "metadata": {
    "collapsed": false
   },
   "outputs": [
    {
     "data": {
      "text/plain": [
       "55"
      ]
     },
     "execution_count": 26,
     "metadata": {},
     "output_type": "execute_result"
    }
   ],
   "source": [
    "// example dot product\n",
    "\n",
    "val v1 = Vector(1,2,3,4,5)\n",
    "val v2 = Vector(1,2,3,4,5)\n",
    "\n",
    "def dotProd(v1: Vector[Int], v2: Vector[Int]) = {\n",
    "    (v1 zip v2).map(xy => xy._1 * xy._2).sum \n",
    "}\n",
    "\n",
    "dotProd(v1, v2)"
   ]
  },
  {
   "cell_type": "code",
   "execution_count": 29,
   "metadata": {
    "collapsed": false
   },
   "outputs": [
    {
     "data": {
      "text/plain": [
       "true"
      ]
     },
     "execution_count": 29,
     "metadata": {},
     "output_type": "execute_result"
    }
   ],
   "source": [
    "// range is seq\n",
    "\n",
    "def isPrime(n: Int)  = (2 until n) forall (d => n%d != 0)\n",
    "\n",
    "isPrime(19)"
   ]
  },
  {
   "cell_type": "code",
   "execution_count": 33,
   "metadata": {
    "collapsed": false
   },
   "outputs": [
    {
     "data": {
      "text/plain": [
       "Vector((1,1), (1,2), (1,3), (2,1), (2,2), (2,3), (3,1), (3,2), (3,3))"
      ]
     },
     "execution_count": 33,
     "metadata": {},
     "output_type": "execute_result"
    }
   ],
   "source": [
    "\n",
    "// double loops in scala\n",
    "\n",
    "((1 until 4) map (i => (1 until 4 ) map (j => (i,j)))).flatten"
   ]
  },
  {
   "cell_type": "code",
   "execution_count": 34,
   "metadata": {
    "collapsed": false
   },
   "outputs": [
    {
     "data": {
      "text/plain": [
       "Vector((1,1), (1,2), (1,3), (2,1), (2,2), (2,3), (3,1), (3,2), (3,3))"
      ]
     },
     "execution_count": 34,
     "metadata": {},
     "output_type": "execute_result"
    }
   ],
   "source": [
    "// or \n",
    "\n",
    "(1 until 4) flatMap (i => (1 until 4 ) map (j => (i,j)))"
   ]
  },
  {
   "cell_type": "code",
   "execution_count": 35,
   "metadata": {
    "collapsed": false
   },
   "outputs": [
    {
     "data": {
      "text/plain": [
       "Vector((2,1), (3,2))"
      ]
     },
     "execution_count": 35,
     "metadata": {},
     "output_type": "execute_result"
    }
   ],
   "source": [
    "// simplier way is to use For\n",
    "\n",
    "// For\n",
    "\n",
    "// find pairs summing to a prime\n",
    " \n",
    "for {                 //use curly bracket save commas\n",
    "    i <- 1 until 4    //generator\n",
    "    j <- 1 until i    \n",
    "    if isPrime(i+j)   //filter i, j \n",
    "} yield (i,j)"
   ]
  },
  {
   "cell_type": "code",
   "execution_count": 42,
   "metadata": {
    "collapsed": false
   },
   "outputs": [
    {
     "data": {
      "text/plain": [
       "Vector((2,1), (3,2))"
      ]
     },
     "execution_count": 42,
     "metadata": {},
     "output_type": "execute_result"
    }
   ],
   "source": [
    "// same as above, but much convoluted\n",
    "\n",
    "                                        //  the case is pattern matching, \n",
    "                                        //   the full expression is  filter (e=>e match { case ...\n",
    "(1 until 4) flatMap (i => (1 until i ) map (j => (i,j))) filter ( {case (x,y)=> isPrime(x+y)} )\n"
   ]
  },
  {
   "cell_type": "code",
   "execution_count": 43,
   "metadata": {
    "collapsed": false
   },
   "outputs": [
    {
     "data": {
      "text/plain": [
       "55"
      ]
     },
     "execution_count": 43,
     "metadata": {},
     "output_type": "execute_result"
    }
   ],
   "source": [
    "// rewrit dot product using For\n",
    "\n",
    "val v1 = Vector(1,2,3,4,5)\n",
    "val v2 = Vector(1,2,3,4,5)\n",
    "\n",
    "def dotProd(v1: Vector[Int], v2: Vector[Int]) = {\n",
    "    (for ( (i,j) <- (v1 zip v2)) yield i*j).sum\n",
    "}\n",
    "\n",
    "dotProd(v1, v2)"
   ]
  },
  {
   "cell_type": "code",
   "execution_count": 54,
   "metadata": {
    "collapsed": false
   },
   "outputs": [
    {
     "name": "stdout",
     "output_type": "stream",
     "text": [
      "92\n",
      "\n",
      "\n",
      "* * * * * X * * \n",
      "* * * X * * * * \n",
      "* X * * * * * * \n",
      "* * * * * * * X \n",
      "* * * * X * * * \n",
      "* * * * * * X * \n",
      "X * * * * * * * \n",
      "* * X * * * * * \n",
      "\n",
      "* * * * X * * * \n",
      "* * * * * * X * \n",
      "* X * * * * * * \n",
      "* * * X * * * * \n",
      "* * * * * * * X \n",
      "X * * * * * * * \n",
      "* * X * * * * * \n",
      "* * * * * X * * \n",
      "\n",
      "* * * * * X * * \n",
      "* * X * * * * * \n",
      "* * * * * * X * \n",
      "* * * X * * * * \n",
      "X * * * * * * * \n",
      "* * * * * * * X \n",
      "* X * * * * * * \n",
      "* * * * X * * * "
     ]
    },
    {
     "data": {
      "text/plain": [
       "Set(())"
      ]
     },
     "execution_count": 54,
     "metadata": {},
     "output_type": "execute_result"
    }
   ],
   "source": [
    " \n",
    "//\n",
    "// Set not seq, unorder, no duplicate\n",
    "//\n",
    "\n",
    "// 8-queens\n",
    "\n",
    "// the following codes are copied from Martin Odersky course\n",
    "// Compare it to my code http://nbviewer.jupyter.org/github/ronnnwu/codetheInterviewExercises/blob/master/Ch8.ipynb\n",
    "// problem 8.12 \n",
    "\n",
    "// Scala immutable List makes recursion very natural and the high-order list function, \n",
    "// for iterator really helped too\n",
    "\n",
    "// In python I had to make copies and write loops over loops. Scala is faster too.\n",
    "\n",
    "def queens(n: Int) : Set[List[Int]] ={ \n",
    "    \n",
    "    //place queen at row k\n",
    "    def placeQueens(k: Int) : Set[List[Int]] = {\n",
    "        if (k==0) Set(List())\n",
    "        else {\n",
    "            for {\n",
    "                queens <- placeQueens(k-1)\n",
    "                col <- 0 until n\n",
    "                if isSafe(col, queens)\n",
    "\n",
    "            } yield col :: queens  \n",
    "            //output e.g. List(1,5,3) means queens at row 0 col 3, row 1 col 5, row 2 col 1 \n",
    "            //hence as k increases it appends queens to the front\n",
    "        }\n",
    "    }\n",
    "    \n",
    "    def isSafe(col: Int, queens: List[Int]): Boolean = {\n",
    "        val row  = queens.length\n",
    "        // decode queens row and col and rows are in reverse order\n",
    "        val queensWithRow = (row - 1 to 0 by -1) zip queens\n",
    "        queensWithRow forall {\n",
    "            case (r,c) => col != c && math.abs(col-c) != row - r // check no col used, no diagonal match\n",
    "        }\n",
    "    }\n",
    "    \n",
    "    placeQueens(n)\n",
    "}\n",
    "\n",
    " \n",
    "println(queens(8).size) \n",
    "\n",
    "def prettyShow(queens: List[Int]) = {\n",
    "    val lines = {\n",
    "        for (col <- queens.reverse)\n",
    "            yield Vector.fill(queens.length)(\"* \").updated(col, \"X \").mkString\n",
    "\n",
    "    }\n",
    "    print(\"\\n\\n\" + (lines mkString \"\\n\"))\n",
    "}\n",
    "\n",
    "queens(8) take 3 map prettyShow"
   ]
  },
  {
   "cell_type": "code",
   "execution_count": 74,
   "metadata": {
    "collapsed": false
   },
   "outputs": [
    {
     "name": "stdout",
     "output_type": "stream",
     "text": [
      "Some(DC)\n",
      "Map(US -> NYC, France -> Paris)\n",
      "Map(US -> NYC, France -> Paris)\n"
     ]
    }
   ],
   "source": [
    "//\n",
    "// Map\n",
    "//\n",
    "\n",
    "val Capital = Map(\"US\"->\"DC\", \"France\"->\"Paris\")\n",
    "\n",
    "println(Capital get \"US\")\n",
    "\n",
    "println(Capital + (\"US\"->\"NYC\")) \n",
    "\n",
    "// + map will replace value which is same as\n",
    "\n",
    "println(Capital ++ Map(\"US\"->\"NYC\")) "
   ]
  },
  {
   "cell_type": "code",
   "execution_count": 58,
   "metadata": {
    "collapsed": false
   },
   "outputs": [
    {
     "data": {
      "text/plain": [
       "Map(5 -> List(apple), 9 -> List(pineapple), 6 -> List(orange, banana))"
      ]
     },
     "execution_count": 58,
     "metadata": {},
     "output_type": "execute_result"
    }
   ],
   "source": [
    "\n",
    "// List has groupBy\n",
    "// returns a Map\n",
    "\n",
    "val fruit = List(\"apple\",\"pineapple\", \"orange\", \"banana\")\n",
    "\n",
    "fruit groupBy(_.length)\n",
    " "
   ]
  },
  {
   "cell_type": "code",
   "execution_count": 85,
   "metadata": {
    "collapsed": false
   },
   "outputs": [
    {
     "data": {
      "text/plain": [
       "3.3 * x ^ 3 + 2.2 * x ^ 2 + 2.2 * x ^ 1"
      ]
     },
     "execution_count": 85,
     "metadata": {},
     "output_type": "execute_result"
    }
   ],
   "source": [
    "// example polynomial class\n",
    "\n",
    "                              // deg, coeff\n",
    "class Poly (val terms0: Map[Int, Double])  {\n",
    "    \n",
    "    val terms = terms0 withDefaultValue 0.0  //this allows terms(deg) in addTerm to return 0\n",
    "    \n",
    "    def + (other: Poly) = new Poly((other.terms foldLeft terms)(addTerm))\n",
    "    \n",
    "    def addTerm(terms: Map[Int,Double], term: (Int, Double)) = {\n",
    "        val (deg, coeff) = term\n",
    "        terms + (deg -> (coeff + terms(deg))) //use terms as initial accumulator and update its value\n",
    "    }\n",
    "    override def toString =\n",
    "        (for ( (deg, ceof)<- terms.toList.sorted.reverse )\n",
    "            yield ceof + \" * x ^ \" + deg) mkString(\" + \")\n",
    "}\n",
    "\n",
    "val p1 = new Poly(Map(1->1.1, 2->2.2))\n",
    "val p2 = new Poly(Map(1->1.1, 3->3.3))\n",
    "\n",
    "p1 + p2"
   ]
  },
  {
   "cell_type": "code",
   "execution_count": 90,
   "metadata": {
    "collapsed": false
   },
   "outputs": [
    {
     "data": {
      "text/plain": [
       "3.3*x^3+2.2*x^2+2.2*x^1"
      ]
     },
     "execution_count": 90,
     "metadata": {},
     "output_type": "execute_result"
    }
   ],
   "source": [
    "// an improved version\n",
    "\n",
    "class Poly (val terms0: Map[Int, Double])  {\n",
    "    \n",
    "    // another constructor will take a squence of (Int,Double) unspecified size\n",
    "    // and pass to the default constructor\n",
    "    def this(bindings: (Int, Double)*) = this(bindings.toMap)\n",
    "    \n",
    "    val terms = terms0 withDefaultValue 0.0\n",
    "\n",
    "    def + (other: Poly) = new Poly((other.terms foldLeft terms)(addTerm))\n",
    "    def addTerm(terms: Map[Int,Double], term: (Int, Double)) = {\n",
    "        val (deg, coeff) = term\n",
    "        terms + (deg -> (coeff + terms(deg)))\n",
    "    }\n",
    "    override def toString =\n",
    "        (for ( (deg, ceof)<- terms.toList.sorted.reverse )\n",
    "            yield ceof + \"*x^\" + deg) mkString(\"+\")\n",
    "}\n",
    "\n",
    "val p1 = new Poly(1->1.1, 2->2.2)\n",
    "val p2 = new Poly(1->1.1, 3->3.3)\n",
    "\n",
    "p1 + p2\n",
    " "
   ]
  },
  {
   "cell_type": "code",
   "execution_count": 130,
   "metadata": {
    "collapsed": false
   },
   "outputs": [
    {
     "name": "stdout",
     "output_type": "stream",
     "text": [
      "45382\n"
     ]
    },
    {
     "data": {
      "text/plain": [
       "Set(sack air fun, pack ah re to, pack bird to, Scala ire to, Scala is fun, rack ah re to, pack air fun, sack bird to, rack bird to, sack ah re to, rack air fun)"
      ]
     },
     "execution_count": 130,
     "metadata": {},
     "output_type": "execute_result"
    }
   ],
   "source": [
    "//example of translating a sequence of number to a sentence\n",
    "\n",
    "import scala.io.Source\n",
    "\n",
    "val in = Source.fromURL(\"http://lamp.epfl.ch/files/content/sites/lamp/files/teaching/progfun/linuxwords.txt\")\n",
    "\n",
    "//get common English words, drop hyphenated words, symbols etc\n",
    "val words = in.getLines.toList filter (word => word forall (chr => chr.isLetter)) \n",
    "println(words.length)   //  45382 words\n",
    "\n",
    "// telephone keypad\n",
    "val mnem = Map('2' -> \"ABC\", '3' -> \"DEF\", '4' -> \"GHI\",'5' -> \"JKL\",\n",
    "    '6' -> \"MNO\", '7' -> \"PQRS\", '8' -> \"TUV\", '9' -> \"WXYZ\")\n",
    "\n",
    "// reverse Map of mnem\n",
    "val charCode: Map[Char, Char] =  for ((digit, str) <- mnem; ltr <- str) yield (ltr -> digit)\n",
    "\n",
    "// the groupBy will return a map from numbers to all 45382 words\n",
    "val wordsForNum: Map[String, List[String]] = {\n",
    "    \n",
    "    def wordCode(word: String) =  word.toUpperCase map charCode\n",
    "    words groupBy wordCode withDefaultValue List()  //not found default is an empty List()\n",
    "}\n",
    "\n",
    "def encode(number: String): Set[List[String]] = {\n",
    "    if (number.isEmpty) Set(List())\n",
    "    else {\n",
    "        for {\n",
    "            split <- 1 to number.length\n",
    "            word <- wordsForNum(number take split)  \n",
    "            // if wordsForNum return an empty List, the iterator is Nil \n",
    "            // so that that iteration is skipped\n",
    "            \n",
    "            rest <- encode(number drop split) //the iterator is an element of the set hence a List\n",
    "        } yield word :: rest // a string of a word concat to a list\n",
    "    }.toSet\n",
    "}\n",
    "\n",
    "\n",
    "def translate(number: String): Set[String] =\n",
    "    encode(number) map ( _ mkString \" \" )\n",
    "\n",
    "translate(\"7225247386\")"
   ]
  },
  {
   "cell_type": "markdown",
   "metadata": {},
   "source": [
    "<a name = 'funDe'></a>\n",
    "## Functional Design in Scala\n",
    "\n",
    "Codes in this section are mostly copied from Martin Odersky course on coursera https://www.coursera.org/learn/progfun2/\n"
   ]
  },
  {
   "cell_type": "markdown",
   "metadata": {},
   "source": [
    "<a name='for'></a>\n",
    "### For Expression"
   ]
  },
  {
   "cell_type": "code",
   "execution_count": 1,
   "metadata": {
    "collapsed": false
   },
   "outputs": [
    {
     "data": {
      "text/plain": [
       "{\"firstName\": \"John\", \"lastName\": \"Smith\", \"address\": {\"streeAddress\": \"21 2nd Street\", \"state\": \"NY\", \"postslCode\": 10021}, \"phoneNumer\": [{\"type\": \"home\", \"number\": \"212 344 1345\"}, {\"type\": \"cell\", \"number\": \"212 542 1345\"}]}"
      ]
     },
     "execution_count": 1,
     "metadata": {},
     "output_type": "execute_result"
    }
   ],
   "source": [
    "// Scala with JSON\n",
    "\n",
    "/*\n",
    "    run only once because it contains object\n",
    "*/\n",
    "\n",
    "abstract class JSON\n",
    "case class JSeq(elem: List[JSON]) extends JSON\n",
    "case class JObj(bingdings: Map[String, JSON]) extends JSON\n",
    "case class JNum(num: Int) extends JSON\n",
    "case class JStr(str: String) extends JSON\n",
    "case class JBool(b: Boolean) extends JSON\n",
    "case object JNull extends JSON\n",
    "\n",
    "val data = JObj(Map(\n",
    "    \"firstName\" -> JStr(\"John\"),\n",
    "    \"lastName\"->JStr(\"Smith\"),\n",
    "    \"address\"->JObj(Map(\n",
    "        \"streeAddress\"->JStr(\"21 2nd Street\"),\n",
    "        \"state\"->JStr(\"NY\"),\n",
    "        \"postslCode\"->JNum(10021)\n",
    "    )),\n",
    "    \"phoneNumer\"->JSeq(List(\n",
    "        JObj(Map(\n",
    "            \"type\"->JStr(\"home\"),\n",
    "            \"number\"->JStr(\"212 344 1345\")\n",
    "        )),\n",
    "        JObj(Map(\n",
    "            \"type\"->JStr(\"cell\"),\n",
    "            \"number\"->JStr(\"212 542 1345\")\n",
    "        ))\n",
    "    ))\n",
    "))\n",
    "\n",
    "def prettyJSON(json: JSON) : String = json match {\n",
    "    case JSeq(elem) =>\n",
    "        \"[\" + (elem map prettyJSON mkString \", \") + \"]\"\n",
    "    case JObj(bindings) =>\n",
    "        val assoc = bindings map {\n",
    "            case (key, value) => \"\\\"\" + key + \"\\\": \" + prettyJSON(value)\n",
    "        }\n",
    "        \"{\" + (assoc mkString \", \") + \"}\"\n",
    "    case JNum(num) => num.toString\n",
    "    case JStr(str) => \"\\\"\" + str + \"\\\"\"\n",
    "    case JBool(b) => b.toString\n",
    "    case JNull => \"Null\"\n",
    "}\n",
    "\n",
    "prettyJSON(data)\n"
   ]
  },
  {
   "cell_type": "code",
   "execution_count": 9,
   "metadata": {
    "collapsed": false
   },
   "outputs": [
    {
     "data": {
      "text/plain": [
       "List((JStr(John),JStr(Smith),212 344 1345))"
      ]
     },
     "execution_count": 9,
     "metadata": {},
     "output_type": "execute_result"
    }
   ],
   "source": [
    "// use For as select for JSON\n",
    "// same idea as Linq in C#\n",
    "\n",
    "val data_collect = List(data) // suppose we have more than one piece of data\n",
    "\n",
    "    for {\n",
    "        JObj(bindings) <- data_collect\n",
    "        JSeq(phones) = bindings(\"phoneNumer\")\n",
    "        JObj(phone) <- phones\n",
    "        JStr(digits) = phone(\"number\")\n",
    "        if digits contains \"344\"\n",
    "    } yield (bindings(\"firstName\"), bindings(\"lastName\"), digits)\n"
   ]
  },
  {
   "cell_type": "code",
   "execution_count": 1,
   "metadata": {
    "collapsed": false
   },
   "outputs": [
    {
     "data": {
      "text/plain": [
       "Set(J. K. Rowling)"
      ]
     },
     "execution_count": 1,
     "metadata": {},
     "output_type": "execute_result"
    }
   ],
   "source": [
    "// For for NoSql\n",
    "\n",
    "case class Book(title: String, author: String)\n",
    "\n",
    "val books: Set[Book] =  Set(  \n",
    "\n",
    "    //using set will avoid not only duplicated items, but also duplicated selections\n",
    "    \n",
    "    Book( \"Harry Potter and the Deathly Hallows\", \"J. K. Rowling\"),\n",
    "    Book( \"Harry Potter and the Philosopher's Stone\", \"J. K. Rowling\"), \n",
    "    Book( \"Harry Potter And The Cursed Child\", \"J. K. Rowling\"),  \n",
    "    Book( \"Angels & Demons\", \"Dan Brown\"),\n",
    "    Book( \"The Audacity of Hope\", \"Barack Obama\")\n",
    ")\n",
    "\n",
    "\n",
    "for {\n",
    "    b1 <- books\n",
    "    b2 <- books\n",
    "    if b1.title < b2.title\n",
    "    if b1.author == b2.author  //author has more than 1 book\n",
    "} yield  b1.author\n"
   ]
  },
  {
   "cell_type": "code",
   "execution_count": 5,
   "metadata": {
    "collapsed": false
   },
   "outputs": [
    {
     "name": "stdout",
     "output_type": "stream",
     "text": [
      "-899983625\n",
      "false\n",
      "(false,false)\n"
     ]
    }
   ],
   "source": [
    "// For as random generator\n",
    "\n",
    "trait Generator[+T] {\n",
    "    self =>\n",
    "    def generate: T\n",
    "\n",
    "    //handmade map to trick For-expression \n",
    "    def map[S](f: T => S): Generator[S] = new Generator[S] {\n",
    "        def generate = f(self.generate)\n",
    "    }\n",
    "\n",
    "    def flatMap[S](f: T => Generator[S]): Generator[S] = new Generator[S] {\n",
    "        def generate = f(self.generate).generate\n",
    "    }\n",
    "}\n",
    "\n",
    "val integers = new Generator[Int] {\n",
    "    val ran = new java.util.Random\n",
    "    def generate = ran.nextInt()\n",
    "}\n",
    "println(integers.generate)\n",
    "\n",
    "//for other types, .nextBoolean(), \n",
    "//val booleans = new Generator[ Boolean] {\n",
    "//    def generate = integers.generate > 0\n",
    "//}\n",
    "\n",
    "// or\n",
    "val booleans = for( x <- integers) yield (x > 0)\n",
    "\n",
    "//that is because\n",
    "//\n",
    "// for ( x <- e1 ) yield e2\n",
    "//\n",
    "// is actually\n",
    "//\n",
    "//     e1.map(x => e2)\n",
    "//\n",
    "// which translates to\n",
    "//\n",
    "//     val booleans = integers.map(_>0)\n",
    "//\n",
    "println(booleans.generate)\n",
    "\n",
    "\n",
    "def pair[U,V](u: Generator[U], v: Generator[V]) = for {\n",
    "    x <- u\n",
    "    y <- v\n",
    "} yield (x,y)\n",
    "\n",
    "//that is because\n",
    "//\n",
    "// for {\n",
    "//      x <- e1\n",
    "//      y <- e2\n",
    "// } yield e3\n",
    "//\n",
    "// is actually\n",
    "//\n",
    "//     e1.flatMap(x => ( e2.map( y => e3)) )\n",
    "//\n",
    "// which translates to\n",
    "//\n",
    "//     def pair[U,V](u: Generator[U], v: Generator[V]) = for {\n",
    "//             u flatMap (x => v map ( y => (x,y) )\n",
    "//\n",
    "println(pair(booleans, booleans).generate)"
   ]
  },
  {
   "cell_type": "code",
   "execution_count": 26,
   "metadata": {
    "collapsed": false
   },
   "outputs": [
    {
     "data": {
      "text/plain": [
       "5"
      ]
     },
     "execution_count": 26,
     "metadata": {},
     "output_type": "execute_result"
    }
   ],
   "source": [
    "// get random number from 1 upto 9\n",
    "\n",
    "def choose(lo: Int, hi: Int) : Generator[Int] =\n",
    "        for (x <- integers) yield lo + (math.abs(x)%(hi - lo))\n",
    "\n",
    "choose(1, 10).generate"
   ]
  },
  {
   "cell_type": "code",
   "execution_count": 38,
   "metadata": {
    "collapsed": false
   },
   "outputs": [
    {
     "data": {
      "text/plain": [
       "c"
      ]
     },
     "execution_count": 38,
     "metadata": {},
     "output_type": "execute_result"
    }
   ],
   "source": [
    "// return a random element\n",
    "\n",
    "def oneOf[T](xs: T*): Generator[T] ={\n",
    "        for (idx <- choose (0, xs.length)) yield xs(idx)\n",
    "    }\n",
    "\n",
    "oneOf(\"a\",\"b\",\"c\",\"d\",\"e\",\"f\",\"g\").generate"
   ]
  },
  {
   "cell_type": "code",
   "execution_count": 105,
   "metadata": {
    "collapsed": false
   },
   "outputs": [
    {
     "data": {
      "text/plain": [
       "List(8, 3, 4, 8, 2, 3, 3, 10, 4, 5, 3)"
      ]
     },
     "execution_count": 105,
     "metadata": {},
     "output_type": "execute_result"
    }
   ],
   "source": [
    "// random list of arbitrary length\n",
    "\n",
    "def lists: Generator[List[Int]] = {\n",
    "    \n",
    "    def single[T] (x: T)  = new Generator[T] {\n",
    "        def generate = x\n",
    "    }\n",
    "\n",
    "    def nonEmptyList = for {\n",
    "        head <- choose(1, 11)\n",
    "        tail <- lists\n",
    "    } yield head :: tail\n",
    "    \n",
    "    for {\n",
    "        isEmpty <- choose(1, 11)\n",
    "        list <- if (isEmpty >= 10) single(Nil) else nonEmptyList\n",
    "        //need to put Nil in wrap because the generate call will be called on it\n",
    "    } yield list\n",
    "\n",
    "}\n",
    "\n",
    "lists.generate"
   ]
  },
  {
   "cell_type": "markdown",
   "metadata": {
    "collapsed": true
   },
   "source": [
    "<a name='stream'></a>\n",
    "### Stream & Lazy Evaluation"
   ]
  },
  {
   "cell_type": "code",
   "execution_count": 108,
   "metadata": {
    "collapsed": false
   },
   "outputs": [
    {
     "data": {
      "text/plain": [
       "Range(1, 2, 3, 4, 5, 6, 7, 8, 9, 10, 11, 12, 13, 14, 15, 16, 17, 18, 19, 20, 21, 22, 23, 24, 25, 26, 27, 28, 29, 30, 31, 32, 33, 34, 35, 36, 37, 38, 39, 40, 41, 42, 43, 44, 45, 46, 47, 48, 49, 50, 51, 52, 53, 54, 55, 56, 57, 58, 59, 60, 61, 62, 63, 64, 65, 66, 67, 68, 69, 70, 71, 72, 73, 74, 75, 76, 77, 78, 79, 80, 81, 82, 83, 84, 85, 86, 87, 88, 89, 90, 91, 92, 93, 94, 95, 96, 97, 98, 99, 100)"
      ]
     },
     "execution_count": 108,
     "metadata": {},
     "output_type": "execute_result"
    }
   ],
   "source": [
    "//\n",
    "// Stream same as List, but only create them fully when someone evaluates it\n",
    "\n",
    "(1 to 100) "
   ]
  },
  {
   "cell_type": "code",
   "execution_count": 109,
   "metadata": {
    "collapsed": false
   },
   "outputs": [
    {
     "data": {
      "text/plain": [
       "Stream(1, ?)"
      ]
     },
     "execution_count": 109,
     "metadata": {},
     "output_type": "execute_result"
    }
   ],
   "source": [
    "(1 to 100).toStream "
   ]
  },
  {
   "cell_type": "code",
   "execution_count": 115,
   "metadata": {
    "collapsed": false
   },
   "outputs": [
    {
     "name": "stdout",
     "output_type": "stream",
     "text": [
      "zxxy"
     ]
    },
    {
     "data": {
      "text/plain": [
       "6"
      ]
     },
     "execution_count": 115,
     "metadata": {},
     "output_type": "execute_result"
    }
   ],
   "source": [
    "// lazy means store results from last evaluation.\n",
    "// let us compare call-by-name(def), call-by-value(val), and lazy\n",
    "\n",
    "def expr = {\n",
    "    def x = { print(\"x\"); 1 }  // this is evaluated when it is called\n",
    "    \n",
    "    lazy val y = { print(\"y\"); 1 } //this will not be evaluted until it is called, \n",
    "                                   //After it is called, it will not be called again, the value is stored\n",
    "\n",
    "    val z = { print(\"z\") ; 1 }  // this is evaluated when the program goes through this line \n",
    "                                // and the value is stored\n",
    "\n",
    "    x + x + y + y + z + z   //this is evaluated from left to right\n",
    "}\n",
    "\n",
    "expr"
   ]
  },
  {
   "cell_type": "code",
   "execution_count": 119,
   "metadata": {
    "collapsed": false
   },
   "outputs": [
    {
     "data": {
      "text/plain": [
       "List(2, 3, 5, 7, 11, 13, 17, 19, 23, 29, 31, 37, 41, 43, 47, 53, 59, 61, 67, 71, 73, 79, 83, 89, 97, 101, 103, 107, 109, 113, 127, 131, 137, 139, 149, 151, 157, 163, 167, 173, 179, 181, 191, 193, 197, 199, 211, 223, 227, 229, 233, 239, 241, 251, 257, 263, 269, 271, 277, 281, 283, 293, 307, 311, 313, 317, 331, 337, 347, 349, 353, 359, 367, 373, 379, 383, 389, 397, 401, 409, 419, 421, 431, 433, 439, 443, 449, 457, 461, 463, 467, 479, 487, 491, 499, 503, 509, 521, 523, 541)"
      ]
     },
     "execution_count": 119,
     "metadata": {},
     "output_type": "execute_result"
    }
   ],
   "source": [
    "//with Stream one can play with an infinite list\n",
    "\n",
    "//this creates an infinite Stream\n",
    "def from(n: Int) : Stream[Int] = n #:: from(n+1)\n",
    "\n",
    "// #:: is for stream concat\n",
    "def sieve(s: Stream[Int]): Stream[Int] =\n",
    "    s.head #:: sieve(s.tail filter ( _ % s.head != 0)) //filter out any multiple of primes\n",
    "\n",
    "val primes = sieve(from(2))\n",
    "\n",
    "//this returns the first 100 primes\n",
    "primes.take(100).toList  //Stream take method will only creates list up to the first 100th primes\n"
   ]
  },
  {
   "cell_type": "code",
   "execution_count": 129,
   "metadata": {
    "collapsed": false
   },
   "outputs": [
    {
     "data": {
      "text/plain": [
       "List(2.0000000929222947)"
      ]
     },
     "execution_count": 129,
     "metadata": {},
     "output_type": "execute_result"
    }
   ],
   "source": [
    "// for convergence problem, we no longer have to worry if the sequence is infinite or not\n",
    "\n",
    "def sqrtStream(x : Double) : Stream[Double] = {\n",
    "    def improve (guess: Double) = (guess + x / guess) / 2\n",
    "    lazy val guesses: Stream[Double] = 1 #:: (guesses map improve) \n",
    "    guesses\n",
    "}\n",
    "def isGoodEnough(x: Double, n: Double)={\n",
    "    math.abs(x*x-n) < 0.0001\n",
    "}\n",
    "sqrtStream(4).filter(x=>isGoodEnough(x,4)).take(1).toList"
   ]
  },
  {
   "cell_type": "code",
   "execution_count": 9,
   "metadata": {
    "collapsed": false
   },
   "outputs": [
    {
     "data": {
      "text/plain": [
       "List(Fill(0) Pour(0,1) Fill(0) Pour(0,1) Pour(0,2) Pour(1,0) Pour(0,2) --> Vector(0, 1, 7))"
      ]
     },
     "execution_count": 9,
     "metadata": {},
     "output_type": "execute_result"
    }
   ],
   "source": [
    "//\n",
    "// N Water jugs problems \n",
    "//\n",
    "//\n",
    "class Pouring(capacity: Vector[Int]){  //capacity is the max amount of water each glass can take \n",
    "    \n",
    "    val glasses = 0 until capacity.length //label glasses 0 to n-1\n",
    " \n",
    "    type State = Vector[Int] \n",
    "    val initialState = capacity map ( x => 0)  //create a new Vector with all zeros\n",
    "   \n",
    "    //total possbile moves\n",
    "    val moves =\n",
    "        (for (g <- glasses) yield Empty(g)) ++\n",
    "        (for (g <- glasses) yield Fill(g)) ++\n",
    "        (for (from <- glasses; to <- glasses if from != to) yield Pour(from, to))\n",
    "\n",
    " \n",
    "    trait Move {\n",
    "        def change(state: State) : State //state: amount of water in each glass\n",
    "    }\n",
    "    case class Empty(glass: Int) extends Move{\n",
    "        def change(state: State)  =  state updated (glass, 0)\n",
    "    }\n",
    "    case class Fill(glass: Int) extends Move{\n",
    "        def change(state: State)  =  state updated (glass, capacity(glass))\n",
    "    }\n",
    "    case class Pour(from: Int, to : Int) extends Move{\n",
    "        def change(state: State)  = {\n",
    "            val amount = state(from) min (capacity(to) - state(to))\n",
    "            state updated(from, state(from) - amount) updated(to, state(to) + amount)\n",
    "        }\n",
    "    }\n",
    "\n",
    "      \n",
    "    class Path(history: List[Move], val endState: State){\n",
    "        //def endState: State = trackState(history)\n",
    "        //private def trackState(xs: List[Move]) : State = xs match {\n",
    "        //    case Nil => initialState\n",
    "        //    case move :: xs1 => move change trackState(xs1)\n",
    "        //}\n",
    "\n",
    "        //accomplished the same as above\n",
    "        //def endState: State = (history foldRight initialState) ( _ change _ )\n",
    "\n",
    "        //or avoid recursive compute endState, update the endState when new moves are added\n",
    "        //new moves are added in front\n",
    "        def extend(move: Move) = new Path(move::history, move change endState)\n",
    "        \n",
    "        override def toString = (history.reverse mkString \" \" ) + \" --> \" + endState\n",
    "    }\n",
    "\n",
    "    val initialPath = new Path(Nil, initialState)\n",
    "\n",
    "    def from(paths: Set[Path], explored: Set[State]): Stream[Set[Path]] =\n",
    "        if (paths.isEmpty) Stream.empty\n",
    "        else {\n",
    "            val more = for {\n",
    "                path <- paths\n",
    "                next <- moves map path.extend  //this will add the every possible moves to all pathes\n",
    "                if !(explored contains next.endState) //if the final state has been reached, it will skip\n",
    "            } yield next\n",
    "            paths #:: from(more, explored ++ (more map (_.endState))) //generating pathes, an infinite list of set\n",
    "        }                                                             \n",
    "\n",
    "    val pathSets = from(Set(initialPath), Set(initialState)) \n",
    "\n",
    "    def solution (target: Int) : Stream[Path] =\n",
    "        for {\n",
    "            pathSet <- pathSets   //and thanks Stream in from method, it will only create path when it needs to\n",
    "            path <- pathSet\n",
    "            if path.endState contains target\n",
    "        } yield path\n",
    "}\n",
    "\n",
    "\n",
    "// any number of glasses.\n",
    "// specify the desired amount to be in any one of the glass\n",
    "val problem = new Pouring(Vector(4, 5, 9))\n",
    "problem.solution(7).take(1).toList"
   ]
  },
  {
   "cell_type": "markdown",
   "metadata": {
    "collapsed": true
   },
   "source": [
    "<a name='state'></a>\n",
    "### Mutable State"
   ]
  },
  {
   "cell_type": "code",
   "execution_count": null,
   "metadata": {
    "collapsed": true
   },
   "outputs": [],
   "source": []
  },
  {
   "cell_type": "code",
   "execution_count": null,
   "metadata": {
    "collapsed": true
   },
   "outputs": [],
   "source": []
  },
  {
   "cell_type": "code",
   "execution_count": null,
   "metadata": {
    "collapsed": true
   },
   "outputs": [],
   "source": []
  },
  {
   "cell_type": "code",
   "execution_count": null,
   "metadata": {
    "collapsed": true
   },
   "outputs": [],
   "source": []
  },
  {
   "cell_type": "code",
   "execution_count": null,
   "metadata": {
    "collapsed": true
   },
   "outputs": [],
   "source": []
  },
  {
   "cell_type": "markdown",
   "metadata": {
    "collapsed": true
   },
   "source": [
    "<a name='event'></a>\n",
    "### Event Handling"
   ]
  },
  {
   "cell_type": "code",
   "execution_count": null,
   "metadata": {
    "collapsed": true
   },
   "outputs": [],
   "source": []
  },
  {
   "cell_type": "code",
   "execution_count": null,
   "metadata": {
    "collapsed": true
   },
   "outputs": [],
   "source": []
  },
  {
   "cell_type": "code",
   "execution_count": null,
   "metadata": {
    "collapsed": true
   },
   "outputs": [],
   "source": []
  },
  {
   "cell_type": "code",
   "execution_count": null,
   "metadata": {
    "collapsed": true
   },
   "outputs": [],
   "source": []
  },
  {
   "cell_type": "code",
   "execution_count": null,
   "metadata": {
    "collapsed": true
   },
   "outputs": [],
   "source": []
  },
  {
   "cell_type": "code",
   "execution_count": null,
   "metadata": {
    "collapsed": true
   },
   "outputs": [],
   "source": []
  },
  {
   "cell_type": "code",
   "execution_count": null,
   "metadata": {
    "collapsed": true
   },
   "outputs": [],
   "source": []
  },
  {
   "cell_type": "code",
   "execution_count": null,
   "metadata": {
    "collapsed": true
   },
   "outputs": [],
   "source": []
  },
  {
   "cell_type": "code",
   "execution_count": null,
   "metadata": {
    "collapsed": true
   },
   "outputs": [],
   "source": []
  },
  {
   "cell_type": "code",
   "execution_count": null,
   "metadata": {
    "collapsed": true
   },
   "outputs": [],
   "source": []
  },
  {
   "cell_type": "code",
   "execution_count": null,
   "metadata": {
    "collapsed": true
   },
   "outputs": [],
   "source": []
  },
  {
   "cell_type": "code",
   "execution_count": null,
   "metadata": {
    "collapsed": true
   },
   "outputs": [],
   "source": []
  },
  {
   "cell_type": "code",
   "execution_count": null,
   "metadata": {
    "collapsed": true
   },
   "outputs": [],
   "source": []
  },
  {
   "cell_type": "code",
   "execution_count": null,
   "metadata": {
    "collapsed": true
   },
   "outputs": [],
   "source": []
  },
  {
   "cell_type": "code",
   "execution_count": null,
   "metadata": {
    "collapsed": true
   },
   "outputs": [],
   "source": []
  },
  {
   "cell_type": "code",
   "execution_count": null,
   "metadata": {
    "collapsed": true
   },
   "outputs": [],
   "source": []
  },
  {
   "cell_type": "code",
   "execution_count": null,
   "metadata": {
    "collapsed": true
   },
   "outputs": [],
   "source": []
  },
  {
   "cell_type": "code",
   "execution_count": null,
   "metadata": {
    "collapsed": true
   },
   "outputs": [],
   "source": []
  },
  {
   "cell_type": "code",
   "execution_count": null,
   "metadata": {
    "collapsed": true
   },
   "outputs": [],
   "source": []
  },
  {
   "cell_type": "code",
   "execution_count": null,
   "metadata": {
    "collapsed": true
   },
   "outputs": [],
   "source": []
  },
  {
   "cell_type": "code",
   "execution_count": null,
   "metadata": {
    "collapsed": true
   },
   "outputs": [],
   "source": []
  },
  {
   "cell_type": "code",
   "execution_count": null,
   "metadata": {
    "collapsed": true
   },
   "outputs": [],
   "source": []
  },
  {
   "cell_type": "code",
   "execution_count": null,
   "metadata": {
    "collapsed": true
   },
   "outputs": [],
   "source": []
  },
  {
   "cell_type": "code",
   "execution_count": null,
   "metadata": {
    "collapsed": true
   },
   "outputs": [],
   "source": []
  },
  {
   "cell_type": "code",
   "execution_count": null,
   "metadata": {
    "collapsed": true
   },
   "outputs": [],
   "source": []
  },
  {
   "cell_type": "code",
   "execution_count": null,
   "metadata": {
    "collapsed": true
   },
   "outputs": [],
   "source": []
  },
  {
   "cell_type": "code",
   "execution_count": null,
   "metadata": {
    "collapsed": true
   },
   "outputs": [],
   "source": []
  },
  {
   "cell_type": "code",
   "execution_count": null,
   "metadata": {
    "collapsed": true
   },
   "outputs": [],
   "source": []
  },
  {
   "cell_type": "code",
   "execution_count": null,
   "metadata": {
    "collapsed": true
   },
   "outputs": [],
   "source": []
  },
  {
   "cell_type": "markdown",
   "metadata": {},
   "source": [
    "<a name = 'pppro'></a>\n",
    "## Parallel Programming in Scala\n",
    "\n",
    "Codes in this section are mostly copied from Viktor Kuncak, Aleksandar Prokopec course on coursera https://www.coursera.org/learn/parprog1/"
   ]
  },
  {
   "cell_type": "code",
   "execution_count": null,
   "metadata": {
    "collapsed": true
   },
   "outputs": [],
   "source": []
  },
  {
   "cell_type": "code",
   "execution_count": null,
   "metadata": {
    "collapsed": true
   },
   "outputs": [],
   "source": []
  },
  {
   "cell_type": "code",
   "execution_count": null,
   "metadata": {
    "collapsed": true
   },
   "outputs": [],
   "source": []
  },
  {
   "cell_type": "code",
   "execution_count": null,
   "metadata": {
    "collapsed": true
   },
   "outputs": [],
   "source": []
  },
  {
   "cell_type": "markdown",
   "metadata": {
    "collapsed": true
   },
   "source": [
    "<a name='Spark'></a>\n",
    "# Big Data, Distributed Analysis with Spark\n",
    "\n",
    "![](https://databricks.com/wp-content/uploads/2016/06/spark-logo-trademark.png)"
   ]
  },
  {
   "cell_type": "code",
   "execution_count": null,
   "metadata": {
    "collapsed": true
   },
   "outputs": [],
   "source": []
  },
  {
   "cell_type": "code",
   "execution_count": null,
   "metadata": {
    "collapsed": true
   },
   "outputs": [],
   "source": []
  },
  {
   "cell_type": "code",
   "execution_count": null,
   "metadata": {
    "collapsed": true
   },
   "outputs": [],
   "source": []
  },
  {
   "cell_type": "markdown",
   "metadata": {
    "collapsed": true
   },
   "source": [
    "<a name ='cuda'></a>\n",
    "# Parallel with CUDA, C++\n",
    "\n",
    "![](http://images.anandtech.com/doci/6839/nvidia-cuda2.png)"
   ]
  },
  {
   "cell_type": "code",
   "execution_count": null,
   "metadata": {
    "collapsed": true
   },
   "outputs": [],
   "source": []
  },
  {
   "cell_type": "code",
   "execution_count": null,
   "metadata": {
    "collapsed": true
   },
   "outputs": [],
   "source": []
  },
  {
   "cell_type": "code",
   "execution_count": null,
   "metadata": {
    "collapsed": true
   },
   "outputs": [],
   "source": []
  },
  {
   "cell_type": "code",
   "execution_count": null,
   "metadata": {
    "collapsed": true
   },
   "outputs": [],
   "source": []
  },
  {
   "cell_type": "code",
   "execution_count": null,
   "metadata": {
    "collapsed": true
   },
   "outputs": [],
   "source": []
  },
  {
   "cell_type": "code",
   "execution_count": null,
   "metadata": {
    "collapsed": true
   },
   "outputs": [],
   "source": []
  },
  {
   "cell_type": "code",
   "execution_count": null,
   "metadata": {
    "collapsed": true
   },
   "outputs": [],
   "source": []
  },
  {
   "cell_type": "code",
   "execution_count": null,
   "metadata": {
    "collapsed": true
   },
   "outputs": [],
   "source": []
  },
  {
   "cell_type": "code",
   "execution_count": null,
   "metadata": {
    "collapsed": true
   },
   "outputs": [],
   "source": []
  },
  {
   "cell_type": "code",
   "execution_count": null,
   "metadata": {
    "collapsed": true
   },
   "outputs": [],
   "source": []
  },
  {
   "cell_type": "code",
   "execution_count": null,
   "metadata": {
    "collapsed": true
   },
   "outputs": [],
   "source": []
  },
  {
   "cell_type": "markdown",
   "metadata": {
    "collapsed": true
   },
   "source": [
    "https://github.com/apache/incubator-toree/blob/master/etc/examples/notebooks/magic-tutorial.ipynb"
   ]
  },
  {
   "cell_type": "code",
   "execution_count": null,
   "metadata": {
    "collapsed": true
   },
   "outputs": [],
   "source": []
  }
 ],
 "metadata": {
  "kernelspec": {
   "display_name": "Apache Toree - Scala",
   "language": "scala",
   "name": "apache_toree_scala"
  },
  "language_info": {
   "name": "scala",
   "version": "2.11.8"
  }
 },
 "nbformat": 4,
 "nbformat_minor": 1
}
