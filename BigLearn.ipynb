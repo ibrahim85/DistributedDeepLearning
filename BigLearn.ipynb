{
 "cells": [
  {
   "cell_type": "markdown",
   "metadata": {
    "collapsed": false
   },
   "source": [
    "Big Data Machine Learning, Distributed Machine Learning, Parallel Machine Learning with C++, CUDA, Scala, Spark\n",
    "=============\n",
    "\n",
    "Ron Wu\n",
    "-------------\n",
    "\n",
    "10/26/16\n",
    "\n",
    "Reference: free courses from the creators of\n",
    "<br>NVIDIA https://developer.nvidia.com/udacity-cs344-intro-parallel-programming<br>\n",
    "Scala http://www.scala-lang.org/blog/2016/05/23/scala-moocs-specialization-launched.html<br>\n",
    "Spark, Databricks https://databricks.com/blog/2016/06/01/databricks-to-launch-first-of-five-free-big-data-courses-on-apache-spark.html <br> \n",
    "### Contents\n",
    "\n",
    "\n",
    "1. <a href =#scala>Functional and Object-Oriented Scala</a>\n",
    "     - <a href=#scalab>Functional Aspect of Scala</a>\n",
    "         - <a href =#fun>First Class Function</a>\n",
    "         - <a href=#cl>Classes</a> \n",
    "     - <a href = #relu>Object-Oriented Aspect of Scala: Data-Parallelism</a> \n",
    "     - <a href = #relu>Scala with Spark</a> \n",
    "<br><br>\n",
    "2. <a href=#Spark>Big Data, Distributed Analysis with Spark</a>\n",
    "     - <a href =#entropy>Spark with Time Series: spark-ts</a> \n",
    "     - <a href =#entropy>Spark with TensorFlow: TensorFrames</a> \n",
    "     - <a href =#entropy>Other Spark Ecosystem</a> \n",
    "<br><br>\n",
    "3. <a href =#convnet>Parallel with CUDA, C++</a>\n",
    "     - <a href=#worked>Parallel Computing</a> \n",
    "     - <a href=#worked>GPU Programming</a> \n",
    "<br><br>\n",
    " "
   ]
  },
  {
   "cell_type": "markdown",
   "metadata": {
    "collapsed": false
   },
   "source": [
    "<a name = 'scala'></a>\n",
    "# Functional and Object-Oriented Scala\n",
    "\n",
    "reference:\n",
    "Martin Odersky, https://www.coursera.org/learn/progfun1/<br>\n",
    "http://docs.scala-lang.org/overviews/\n",
    "\n",
    "<a name = 'scalab'></a>\n",
    "## Functional Aspect of Scala\n",
    "\n",
    "For easier transition to parallel programming, throughout this notebook I will try to use functional style over imperative style whenever possible. That is because in parallel programming variables are immutable. Once it is set, it cannot be changed, which avoids a lot deadlocks. \n",
    "\n",
    "If a block of code is written in loop fashion, the compiler will turn it into functions, the iteration and any change of variables inside the loop are passing through the function calls. Thus whether you write it in serial or recursion, it will end up in recursive call anyway.  \n",
    "\n",
    "<a name='fun'></a>\n",
    "### First Class Functions\n",
    " "
   ]
  },
  {
   "cell_type": "code",
   "execution_count": 1,
   "metadata": {
    "collapsed": false
   },
   "outputs": [
    {
     "data": {
      "text/plain": [
       "4"
      ]
     },
     "execution_count": 1,
     "metadata": {},
     "output_type": "execute_result"
    }
   ],
   "source": [
    "//it is okay to do this, because def is call-by-name, only definition\n",
    "def loop: Int = loop \n",
    "\n",
    "//Do not run, infinite loop, because val is call-by-value\n",
    "//val l = loop\n",
    "    \n",
    "def square(x: Int) = x*x\n",
    "\n",
    "def squareFirstEle(x: Int, y: => Int) = square(x)\n",
    "// => makes y call-by-name, so passing in loop is okay\n",
    "squareFirstEle(2,loop)"
   ]
  },
  {
   "cell_type": "code",
   "execution_count": 2,
   "metadata": {
    "collapsed": false
   },
   "outputs": [
    {
     "data": {
      "text/plain": [
       "2.1224976448422046"
      ]
     },
     "execution_count": 2,
     "metadata": {},
     "output_type": "execute_result"
    }
   ],
   "source": [
    "// Newton Method (steep descent) find square root\n",
    "\n",
    "def sqrt(x: Double) = {\n",
    "        \n",
    "    def sqrtIter(guess: Double): Double =\n",
    "        if (math.abs(guess*guess-x) / x <0.01) guess\n",
    "        else sqrtIter((guess + x / guess)  / 2) \n",
    "\n",
    "    sqrtIter(1.0)\n",
    "}\n",
    "\n",
    "sqrt(4.5)"
   ]
  },
  {
   "cell_type": "code",
   "execution_count": 3,
   "metadata": {
    "collapsed": false
   },
   "outputs": [
    {
     "data": {
      "text/plain": [
       "55"
      ]
     },
     "execution_count": 3,
     "metadata": {},
     "output_type": "execute_result"
    }
   ],
   "source": [
    "//  High order function  \n",
    "\n",
    "def sum_v1(f: Int => Int, a: Int, b: Int): Int = {\n",
    "    if (a > b) 0\n",
    "    else sum_v1(f, a+1, b) + f(a)\n",
    "}\n",
    "\n",
    "\n",
    "// find the sum of the squares from 1 to 5 \n",
    "sum_v1(square, 1, 5)"
   ]
  },
  {
   "cell_type": "code",
   "execution_count": 4,
   "metadata": {
    "collapsed": false
   },
   "outputs": [
    {
     "data": {
      "text/plain": [
       "55"
      ]
     },
     "execution_count": 4,
     "metadata": {},
     "output_type": "execute_result"
    }
   ],
   "source": [
    "// rectify above to tail-recursion, so will not build the stack\n",
    "    \n",
    "def sum_v2(f: Int => Int, a: Int, b: Int): Int = {\n",
    "    def loop(a: Int, acc: Int): Int = {\n",
    "        if (a>b) acc\n",
    "        else loop(a+1, acc + f(a))\n",
    "    }\n",
    "    loop(a, 0)\n",
    "}\n",
    "\n",
    "sum_v2(square, 1, 5)"
   ]
  },
  {
   "cell_type": "code",
   "execution_count": 5,
   "metadata": {
    "collapsed": false
   },
   "outputs": [
    {
     "data": {
      "text/plain": [
       "55"
      ]
     },
     "execution_count": 5,
     "metadata": {},
     "output_type": "execute_result"
    }
   ],
   "source": [
    "// sum_v3 is a pure functional\n",
    "    \n",
    "def sum_v3(f: Int => Int): (Int, Int) => Int =  {\n",
    "        def sumF(a: Int, b: Int): Int = { \n",
    "            if (a>b) 0\n",
    "            else sumF(a+1,b) + f(a)\n",
    "        }\n",
    "        sumF\n",
    "}\n",
    "\n",
    "// passing in anonymous\n",
    "sum_v3(x => x*x)(1, 5) "
   ]
  },
  {
   "cell_type": "markdown",
   "metadata": {
    "collapsed": true
   },
   "source": [
    "<a name='cl'></a>\n",
    "### Classes"
   ]
  },
  {
   "cell_type": "code",
   "execution_count": 6,
   "metadata": {
    "collapsed": false
   },
   "outputs": [
    {
     "name": "stdout",
     "output_type": "stream",
     "text": [
      "r rational: 1/2\n",
      "negative of s rational: -1/2\n",
      "sum of rationals r & s: 5/4\n",
      "integer t: 2\n"
     ]
    }
   ],
   "source": [
    "class Rational(x: Int, y: Int)  {\n",
    "    require( y != 0 , \"denominator not to be zero\")\n",
    "\n",
    "    //second constructor\n",
    "    def this(x: Int) = this(x, 1)\n",
    "\n",
    "    private def gcd(a:Int, b:Int) : Int =\n",
    "    //Euler method\n",
    "        if (b==0) a\n",
    "        else gcd(b, a%b)\n",
    "    private val g = math.abs(gcd(x, y))\n",
    "\n",
    "    val numer = x / g\n",
    "    val denom = y / g\n",
    "\n",
    "\n",
    "    override def toString =\n",
    "        if (y!=1) this.numer + \"/\" + this.denom\n",
    "        else (this.numer).toString\n",
    "\n",
    "    //normally + cannot be identifier, but in Scala is legal\n",
    "    def + (that: Rational) =\n",
    "        new Rational(this.numer*that.denom+this.denom*that.numer, this .denom*that.denom)\n",
    "\n",
    "    def unary_- = new Rational(-numer, denom)\n",
    "\n",
    "}\n",
    "\n",
    "val r = new Rational(1,2)\n",
    "println(\"r rational: \" + r.toString)\n",
    "\n",
    "\n",
    "val s = new Rational(3,4)\n",
    "\n",
    "// this - is special it right next to the object, so use unary_-\n",
    "println(\"negative of s rational: \"+(-r).toString)\n",
    "\n",
    "//this is same as (r.+(s)).toString\n",
    "println(\"sum of rationals r & s: \" + (r + s).toString)\n",
    "\n",
    "val t = new Rational(2)\n",
    "println(\"integer t: \"+t.toString)"
   ]
  },
  {
   "cell_type": "code",
   "execution_count": 7,
   "metadata": {
    "collapsed": false
   },
   "outputs": [
    {
     "name": "stdout",
     "output_type": "stream",
     "text": [
      "{-3-}\n",
      "{-3{-4-}}\n"
     ]
    }
   ],
   "source": [
    "//\n",
    "//  inheritance\n",
    "//\n",
    "\n",
    "abstract class Node{\n",
    "    def insert(x: Int) : Node\n",
    "    def search(x: Int) : Boolean\n",
    "}\n",
    "\n",
    "//Java supports only single inheritance for multiple, use with traits\n",
    "\n",
    "//so the default constructor takes 3 arguments\n",
    "class NonEmpty(elem: Int, left: Node, right: Node)  extends Node{\n",
    "\n",
    "\n",
    "    def insert(x: Int) : Node = {\n",
    "        if ( x < elem ) new NonEmpty(elem, left insert x , right)\n",
    "        else if (x > elem) new NonEmpty(elem, left, right insert x)\n",
    "        else this\n",
    "    }\n",
    "\n",
    "    def search(x: Int) : Boolean = {\n",
    "        if ( x < elem ) left search x\n",
    "        else if ( x > elem ) right search x\n",
    "        else true\n",
    "    }\n",
    "    \n",
    "    // because of override in Empty, override left toString will be called\n",
    "    override def toString = \"{\" + left + elem + right + \"}\"\n",
    "}    \n",
    "\n",
    "class Empty extends Node{\n",
    "\n",
    "    def insert(x: Int) : Node = new NonEmpty(x, new Empty, new Empty)\n",
    "    def search(x: Int) : Boolean = false\n",
    "    override def toString = \"-\"\n",
    "}\n",
    "\n",
    "val tree1 = new NonEmpty(3, new Empty, new  Empty)\n",
    "\n",
    "// a copy of tree1 with 4 inserted\n",
    "val tree2 = tree1 insert 4  \n",
    "\n",
    "println(tree1.toString)\n",
    "println(tree2.toString)"
   ]
  },
  {
   "cell_type": "code",
   "execution_count": 8,
   "metadata": {
    "collapsed": false
   },
   "outputs": [
    {
     "name": "stdout",
     "output_type": "stream",
     "text": [
      "1.1\n",
      "3\n",
      "2\n",
      "1\n"
     ]
    }
   ],
   "source": [
    "//\n",
    "// generic type\n",
    "//\n",
    "\n",
    "import java.util.NoSuchElementException\n",
    "\n",
    "//type parameter\n",
    "trait Node[T]{\n",
    "    def isEmpty: Boolean\n",
    "    def data: T\n",
    "    def pt: Node[T]\n",
    "}\n",
    "\n",
    "\n",
    "//the default constructor takes 2 arguments\n",
    "//this also means that 2 corresponding fields of the class are\n",
    "//defined through pass in variables\n",
    "class Cons[T](val data: T, val pt: Node[T]) extends Node[T]{\n",
    "    def isEmpty = false\n",
    "}\n",
    "\n",
    "class Nil[T] extends Node[T]{\n",
    "    def isEmpty = true\n",
    "    def data : Nothing = throw new NoSuchElementException(\"Nil.data\")\n",
    "    def pt: Nothing = throw new NoSuchElementException(\"Nil.pt\")\n",
    "}\n",
    "\n",
    "def singleton[T](elem:T) = new Cons[T](elem, new Nil[T])\n",
    "\n",
    "println(singleton[Double](1.1).data)\n",
    "\n",
    "\n",
    "// this will threw exception\n",
    "// println(singleton[Double](1.1).pt.data)\n",
    "\n",
    "\n",
    "//the type parameter is redundant \n",
    "val list = new Cons(3, new Cons(2, new Cons(1, new Nil)))\n",
    "\n",
    "println(list.data)\n",
    "println(list.pt.data)\n",
    "println(list.pt.pt.data)"
   ]
  },
  {
   "cell_type": "code",
   "execution_count": null,
   "metadata": {
    "collapsed": true
   },
   "outputs": [],
   "source": [
    "def"
   ]
  },
  {
   "cell_type": "code",
   "execution_count": null,
   "metadata": {
    "collapsed": true
   },
   "outputs": [],
   "source": []
  },
  {
   "cell_type": "code",
   "execution_count": null,
   "metadata": {
    "collapsed": true
   },
   "outputs": [],
   "source": []
  },
  {
   "cell_type": "code",
   "execution_count": null,
   "metadata": {
    "collapsed": true
   },
   "outputs": [],
   "source": []
  },
  {
   "cell_type": "code",
   "execution_count": null,
   "metadata": {
    "collapsed": true
   },
   "outputs": [],
   "source": []
  },
  {
   "cell_type": "code",
   "execution_count": null,
   "metadata": {
    "collapsed": true
   },
   "outputs": [],
   "source": []
  },
  {
   "cell_type": "code",
   "execution_count": null,
   "metadata": {
    "collapsed": true
   },
   "outputs": [],
   "source": []
  },
  {
   "cell_type": "code",
   "execution_count": null,
   "metadata": {
    "collapsed": true
   },
   "outputs": [],
   "source": []
  },
  {
   "cell_type": "code",
   "execution_count": null,
   "metadata": {
    "collapsed": true
   },
   "outputs": [],
   "source": []
  },
  {
   "cell_type": "code",
   "execution_count": null,
   "metadata": {
    "collapsed": true
   },
   "outputs": [],
   "source": []
  },
  {
   "cell_type": "code",
   "execution_count": null,
   "metadata": {
    "collapsed": true
   },
   "outputs": [],
   "source": []
  },
  {
   "cell_type": "code",
   "execution_count": null,
   "metadata": {
    "collapsed": true
   },
   "outputs": [],
   "source": []
  },
  {
   "cell_type": "code",
   "execution_count": null,
   "metadata": {
    "collapsed": true
   },
   "outputs": [],
   "source": []
  },
  {
   "cell_type": "code",
   "execution_count": null,
   "metadata": {
    "collapsed": true
   },
   "outputs": [],
   "source": []
  },
  {
   "cell_type": "code",
   "execution_count": null,
   "metadata": {
    "collapsed": true
   },
   "outputs": [],
   "source": []
  },
  {
   "cell_type": "code",
   "execution_count": null,
   "metadata": {
    "collapsed": true
   },
   "outputs": [],
   "source": []
  },
  {
   "cell_type": "code",
   "execution_count": null,
   "metadata": {
    "collapsed": true
   },
   "outputs": [],
   "source": []
  },
  {
   "cell_type": "code",
   "execution_count": null,
   "metadata": {
    "collapsed": true
   },
   "outputs": [],
   "source": []
  },
  {
   "cell_type": "code",
   "execution_count": null,
   "metadata": {
    "collapsed": true
   },
   "outputs": [],
   "source": []
  },
  {
   "cell_type": "code",
   "execution_count": null,
   "metadata": {
    "collapsed": true
   },
   "outputs": [],
   "source": []
  },
  {
   "cell_type": "code",
   "execution_count": null,
   "metadata": {
    "collapsed": true
   },
   "outputs": [],
   "source": []
  },
  {
   "cell_type": "code",
   "execution_count": null,
   "metadata": {
    "collapsed": true
   },
   "outputs": [],
   "source": []
  },
  {
   "cell_type": "code",
   "execution_count": null,
   "metadata": {
    "collapsed": true
   },
   "outputs": [],
   "source": []
  },
  {
   "cell_type": "code",
   "execution_count": null,
   "metadata": {
    "collapsed": true
   },
   "outputs": [],
   "source": []
  },
  {
   "cell_type": "code",
   "execution_count": null,
   "metadata": {
    "collapsed": true
   },
   "outputs": [],
   "source": []
  },
  {
   "cell_type": "code",
   "execution_count": null,
   "metadata": {
    "collapsed": true
   },
   "outputs": [],
   "source": []
  },
  {
   "cell_type": "code",
   "execution_count": null,
   "metadata": {
    "collapsed": true
   },
   "outputs": [],
   "source": []
  },
  {
   "cell_type": "code",
   "execution_count": null,
   "metadata": {
    "collapsed": true
   },
   "outputs": [],
   "source": []
  },
  {
   "cell_type": "code",
   "execution_count": null,
   "metadata": {
    "collapsed": true
   },
   "outputs": [],
   "source": []
  },
  {
   "cell_type": "code",
   "execution_count": null,
   "metadata": {
    "collapsed": true
   },
   "outputs": [],
   "source": []
  },
  {
   "cell_type": "code",
   "execution_count": null,
   "metadata": {
    "collapsed": true
   },
   "outputs": [],
   "source": []
  },
  {
   "cell_type": "code",
   "execution_count": null,
   "metadata": {
    "collapsed": true
   },
   "outputs": [],
   "source": []
  },
  {
   "cell_type": "code",
   "execution_count": null,
   "metadata": {
    "collapsed": true
   },
   "outputs": [],
   "source": []
  },
  {
   "cell_type": "code",
   "execution_count": null,
   "metadata": {
    "collapsed": true
   },
   "outputs": [],
   "source": []
  },
  {
   "cell_type": "code",
   "execution_count": null,
   "metadata": {
    "collapsed": true
   },
   "outputs": [],
   "source": []
  },
  {
   "cell_type": "code",
   "execution_count": null,
   "metadata": {
    "collapsed": true
   },
   "outputs": [],
   "source": []
  },
  {
   "cell_type": "code",
   "execution_count": null,
   "metadata": {
    "collapsed": true
   },
   "outputs": [],
   "source": []
  },
  {
   "cell_type": "code",
   "execution_count": null,
   "metadata": {
    "collapsed": true
   },
   "outputs": [],
   "source": []
  },
  {
   "cell_type": "code",
   "execution_count": null,
   "metadata": {
    "collapsed": true
   },
   "outputs": [],
   "source": []
  },
  {
   "cell_type": "code",
   "execution_count": null,
   "metadata": {
    "collapsed": true
   },
   "outputs": [],
   "source": []
  },
  {
   "cell_type": "code",
   "execution_count": null,
   "metadata": {
    "collapsed": true
   },
   "outputs": [],
   "source": []
  },
  {
   "cell_type": "code",
   "execution_count": null,
   "metadata": {
    "collapsed": true
   },
   "outputs": [],
   "source": []
  },
  {
   "cell_type": "code",
   "execution_count": null,
   "metadata": {
    "collapsed": true
   },
   "outputs": [],
   "source": []
  },
  {
   "cell_type": "code",
   "execution_count": null,
   "metadata": {
    "collapsed": true
   },
   "outputs": [],
   "source": []
  },
  {
   "cell_type": "code",
   "execution_count": null,
   "metadata": {
    "collapsed": true
   },
   "outputs": [],
   "source": []
  },
  {
   "cell_type": "code",
   "execution_count": null,
   "metadata": {
    "collapsed": true
   },
   "outputs": [],
   "source": []
  },
  {
   "cell_type": "code",
   "execution_count": null,
   "metadata": {
    "collapsed": true
   },
   "outputs": [],
   "source": []
  },
  {
   "cell_type": "code",
   "execution_count": null,
   "metadata": {
    "collapsed": true
   },
   "outputs": [],
   "source": []
  },
  {
   "cell_type": "code",
   "execution_count": null,
   "metadata": {
    "collapsed": true
   },
   "outputs": [],
   "source": []
  }
 ],
 "metadata": {
  "kernelspec": {
   "display_name": "Apache Toree - Scala",
   "language": "scala",
   "name": "apache_toree_scala"
  },
  "language_info": {
   "name": "scala",
   "version": "2.11.8"
  }
 },
 "nbformat": 4,
 "nbformat_minor": 1
}
